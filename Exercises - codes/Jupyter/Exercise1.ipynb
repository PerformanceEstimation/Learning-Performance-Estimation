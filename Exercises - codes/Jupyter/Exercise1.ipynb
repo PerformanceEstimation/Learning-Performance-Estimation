{
 "cells": [
  {
   "cell_type": "code",
   "execution_count": null,
   "id": "a6f2ac8a-144a-4c29-a3e4-f795f6f8b603",
   "metadata": {},
   "outputs": [],
   "source": [
    "!pip install pepit"
   ]
  },
  {
   "cell_type": "code",
   "execution_count": null,
   "id": "b5de79a2-1459-4b9f-8cbe-465719ebac27",
   "metadata": {},
   "outputs": [],
   "source": [
    "from PEPit import PEP\n",
    "from PEPit.functions import SmoothStronglyConvexFunction\n",
    "\n",
    "def wc_gradient(L, mu, gamma, verbose=1):\n",
    "    #\n",
    "    # This code must be completed for \n",
    "    #\n",
    "    \n",
    "    # Instantiate PEP\n",
    "    problem = PEP()\n",
    "\n",
    "    # Declare a strongly convex smooth function and a closed convex proper function\n",
    "    f = problem.declare_function(SmoothStronglyConvexFunction, mu=mu, L=L)\n",
    "\n",
    "    # Start by defining its unique optimal point xs = x_*\n",
    "    xs = f.stationary_point()\n",
    "\n",
    "    # Then define the point xk of the algorithm\n",
    "    xk = problem.set_initial_point()\n",
    "\n",
    "    # Set the initial constraint that is the distance between xk and x^*\n",
    "    \n",
    "    \n",
    "    # Perform one iteration of gradient descent\n",
    "    xkp1y = x - gamma * f1.gradient(x)\n",
    "        x, _, _ = proximal_step(y, f2, gamma)\n",
    "\n",
    "    # Set the performance metric to the distance between x and xs\n",
    "    problem.set_performance_metric((x - xs) ** 2)\n",
    "\n",
    "    # Solve the PEP\n",
    "    pepit_verbose = max(verbose, 0)\n",
    "    pepit_tau = problem.solve(verbose=pepit_verbose)\n",
    "\n",
    "    # Compute theoretical guarantee (for comparison)\n",
    "    theoretical_tau = max((1 - mu*gamma)**2, (1 - L*gamma)**2)**n\n",
    "\n",
    "    # Print conclusion if required\n",
    "    if verbose != -1:\n",
    "        print('*** Example file: worst-case performance of the Proximal Gradient Method in function values***')\n",
    "        print('\\tPEPit guarantee:\\t ||x_n - x_*||^2 <= {:.6} ||x0 - xs||^2'.format(pepit_tau))\n",
    "        print('\\tTheoretical guarantee:\\t ||x_n - x_*||^2 <= {:.6} ||x0 - xs||^2 '.format(theoretical_tau))\n",
    "\n",
    "    # Return the worst-case guarantee of the evaluated method ( and the reference theoretical value)\n",
    "    return pepit_tau, theoretical_tau\n"
   ]
  }
 ],
 "metadata": {
  "kernelspec": {
   "display_name": "Python 3 (ipykernel)",
   "language": "python",
   "name": "python3"
  },
  "language_info": {
   "codemirror_mode": {
    "name": "ipython",
    "version": 3
   },
   "file_extension": ".py",
   "mimetype": "text/x-python",
   "name": "python",
   "nbconvert_exporter": "python",
   "pygments_lexer": "ipython3",
   "version": "3.9.7"
  }
 },
 "nbformat": 4,
 "nbformat_minor": 5
}
