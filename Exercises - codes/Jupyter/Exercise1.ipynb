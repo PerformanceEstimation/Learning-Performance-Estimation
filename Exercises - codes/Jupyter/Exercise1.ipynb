{
 "cells": [
  {
   "cell_type": "markdown",
   "id": "d79c4e1e-f578-4429-acaf-323ecee09938",
   "metadata": {},
   "source": [
    "# Summary\n",
    "This document corresponds to Exercise 1 of [this file](https://github.com/PerformanceEstimation/Learning-Performance-Estimation/blob/main/Exercises/Course.pdf).\n",
    "\n",
    "The first step consists in installing [PEPit](https://pypi.org/project/PEPit/) and its dependencies:"
   ]
  },
  {
   "cell_type": "code",
   "execution_count": null,
   "id": "9914c69b-65d4-4fad-9e2f-82245a750b8c",
   "metadata": {},
   "outputs": [],
   "source": [
    "!pip install pepit"
   ]
  },
  {
   "cell_type": "markdown",
   "id": "e901fe87-fb7d-403d-a7ad-95710cbcc57b",
   "metadata": {},
   "source": [
    "Secondly, complete the code for computing the worst-case behavior of the ratio $\\frac{\\|x_{k+1}-x_\\star\\|^2}{\\|x_k-x_\\star\\|^2}$ (we use $k=0$ without loss of generality and for readability below)."
   ]
  },
  {
   "cell_type": "code",
   "execution_count": null,
   "id": "b5de79a2-1459-4b9f-8cbe-465719ebac27",
   "metadata": {},
   "outputs": [],
   "source": [
    "from PEPit import PEP\n",
    "from PEPit.functions import SmoothStronglyConvexFunction\n",
    "\n",
    "def wc_gradient(L, mu, gamma, verbose=1):\n",
    "    # It is intended to compute the worst-case convergence of gradient descent in terms of the distance to \n",
    "    # an optimal solution: ||x_{k+1} - x_\\star ||^2 / || x_k - x_\\star \\\\^2.\n",
    "    # Note that we use k = 0 in the code below for readability.\n",
    "    \n",
    "    # Instantiate PEP\n",
    "    problem = PEP()\n",
    "\n",
    "    # Declare a strongly convex smooth function and a closed convex proper function\n",
    "    f = problem.declare_function(SmoothStronglyConvexFunction, mu=mu, L=L)\n",
    "\n",
    "    # Start by defining its unique optimal point xs = x_\\star\n",
    "    xs = f.stationary_point()\n",
    "\n",
    "    # Then define the point x0 of the algorithm\n",
    "    x0 = problem.set_initial_point()\n",
    "\n",
    "    # Set the initial constraint that is the distance between x0 and x^*\n",
    "    \n",
    "    \n",
    "    # Perform one iteration of gradient descent\n",
    "    x1 = x0 - gamma * f.gradient(x0)\n",
    "\n",
    "    # Set the \"performance metric\" to the distance between x1 and xs\n",
    "    # TO COMPLETE (use \"problem.set_performance_metric\" to specify the objective function of the SDP)\n",
    "    problem.set_performance_metric( ) # complete this line\n",
    "    \n",
    "    # Set the \"initial condition\" to the distance between x0 and xs\n",
    "    # TO COMPLETE (use \"problem.set_initial_condition\" or \"problem.add_constraint\" to specify the\n",
    "    # constraint || x0 - xs ||^2 == 1).\n",
    "    problem.set_initial_condition( ) # complete this line\n",
    "\n",
    "    # Solve the PEP\n",
    "    pepit_tau = problem.solve(verbose=verbose)\n",
    "    \n",
    "    # Return the worst-case convergence rate output by the SDP solver\n",
    "    return pepit_tau"
   ]
  },
  {
   "cell_type": "markdown",
   "id": "30c47bf9-6501-41f7-bbfa-7ca0db24ef74",
   "metadata": {},
   "source": [
    "Once the previous code is completed, one can test it for a few values of the problem and algorithmic parameters."
   ]
  },
  {
   "cell_type": "code",
   "execution_count": null,
   "id": "c148249f-251c-4597-b500-198e8dbf23f5",
   "metadata": {},
   "outputs": [],
   "source": [
    "import matplotlib.pyplot as plt\n",
    "import numpy as np\n",
    "import time\n",
    "\n",
    "nb_test = 20\n",
    "\n",
    "mu = .1\n",
    "L = 1\n",
    "gamma = np.linspace(0., 2., num=nb_test)\n",
    "verbose = 0\n",
    "\n",
    "pepit_taus = list()\n",
    "\n",
    "for i in range(nb_test):\n",
    "    t0= time.process_time()\n",
    "    pepit_tau = wc_gradient(L=L, mu=mu, gamma=gamma[i], verbose=verbose)\n",
    "    pepit_taus.append(pepit_tau)\n",
    "    t1 = time.process_time() - t0\n",
    "    print(i+1, '/', nb_test,' done [elapsed time:',\"%.2f\" %t1,'[s]')\n",
    "    \n",
    "plt.plot(gamma, pepit_taus, '-')\n",
    "\n",
    "plt.xlabel('Step size')\n",
    "plt.ylabel('||x_1-x_*||^2 / ||x_0-x_*||^2')\n",
    "\n",
    "plt.show()"
   ]
  }
 ],
 "metadata": {
  "kernelspec": {
   "display_name": "Python 3 (ipykernel)",
   "language": "python",
   "name": "python3"
  },
  "language_info": {
   "codemirror_mode": {
    "name": "ipython",
    "version": 3
   },
   "file_extension": ".py",
   "mimetype": "text/x-python",
   "name": "python",
   "nbconvert_exporter": "python",
   "pygments_lexer": "ipython3",
   "version": "3.9.7"
  }
 },
 "nbformat": 4,
 "nbformat_minor": 5
}
