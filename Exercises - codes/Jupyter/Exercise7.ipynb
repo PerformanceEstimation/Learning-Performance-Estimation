{
 "cells": [
  {
   "cell_type": "markdown",
   "id": "62d38f9e-5952-4c56-a6b7-aa14e471a4c7",
   "metadata": {},
   "source": [
    "# Summary\n",
    "This document corresponds to Exercise 7 of [this file](https://github.com/PerformanceEstimation/Learning-Performance-Estimation/blob/main/Exercises/Course.pdf).\n",
    "\n",
    "The first step consists in installing [PEPit](https://pypi.org/project/PEPit/) and its dependencies."
   ]
  },
  {
   "cell_type": "code",
   "execution_count": null,
   "id": "b8faa862-7c0a-4a9d-b2e7-f77831770056",
   "metadata": {},
   "outputs": [],
   "source": [
    "!pip install pepit"
   ]
  },
  {
   "cell_type": "code",
   "execution_count": null,
   "id": "a54b4f59-8901-4e65-94c5-7cc170145b2f",
   "metadata": {},
   "outputs": [],
   "source": [
    "from PEPit import PEP\n",
    "from PEPit.operators import LipschitzOperator\n",
    "\n",
    "n = 5\n",
    "verbose = 1\n",
    "\n",
    "# Instantiate PEP\n",
    "problem = PEP()\n",
    "\n",
    "# Declare a non expansive operator\n",
    "A = problem.declare_function(LipschitzOperator, L=1.)\n",
    "\n",
    "# Start by defining its unique optimal point xs = x_*\n",
    "xs, _, _ = A.fixed_point()\n",
    "\n",
    "# Then define the starting point x0 of the algorithm\n",
    "x0 = problem.set_initial_point()\n",
    "\n",
    "# Set the initial constraint that is the difference between x0 and xs\n",
    "problem.set_initial_condition((x0 - xs) ** 2 <= 1)\n",
    "\n",
    "# Run n steps of Halpern Iterations\n",
    "x = x0\n",
    "x_list = list()\n",
    "x_list.append(x)\n",
    "image_list = list()\n",
    "for i in range(n):\n",
    "    image = A.gradient(x)\n",
    "    image_list.append(image)\n",
    "    x = 1 / (i + 2) * x0 + (1 - 1 / (i + 2)) * image\n",
    "    x_list.append(x)\n",
    "\n",
    "image = A.gradient(x)\n",
    "image_list.append(image)\n",
    "\n",
    "# Set the performance metric to distance between xN and AxN\n",
    "problem.set_performance_metric((x - image) ** 2)\n",
    "\n",
    "# Solve the PEP\n",
    "pepit_tau = problem.solve(verbose=verbose , dimension_reduction_heuristic=\"logdet15\")\n"
   ]
  },
  {
   "cell_type": "code",
   "execution_count": null,
   "id": "82af2177-ce13-412c-9e3c-7aee9401d649",
   "metadata": {},
   "outputs": [],
   "source": [
    "iterates = list()\n",
    "residuals = list()\n",
    "images = list()\n",
    "for i in range(n+1):\n",
    "    iterates.append((x_list[i]-xs).eval()[0])\n",
    "    residuals.append((image_list[i]-x_list[i]).eval()[0])\n",
    "    images.append((image_list[i]).eval()[0])"
   ]
  },
  {
   "cell_type": "code",
   "execution_count": null,
   "id": "d76d2e02-bcb3-4cda-b95b-a5ee0ad0edcd",
   "metadata": {},
   "outputs": [],
   "source": [
    "import matplotlib.pyplot as plt\n",
    "\n",
    "plt.plot(iterates, images, '.-',label='iterates')\n",
    "plt.plot(iterates[0], images[0], '.',label='first')\n",
    "plt.plot(iterates[n], images[n], 's',label='last')\n",
    "plt.plot(iterates, iterates, '.-',label='x=y')\n",
    "plt.plot(0, 0, '*',label='solution')\n",
    "\n",
    "plt.xlabel('iterate')\n",
    "plt.ylabel('residual')\n",
    "plt.legend()\n",
    "plt.show()"
   ]
  }
 ],
 "metadata": {
  "kernelspec": {
   "display_name": "Python 3 (ipykernel)",
   "language": "python",
   "name": "python3"
  },
  "language_info": {
   "codemirror_mode": {
    "name": "ipython",
    "version": 3
   },
   "file_extension": ".py",
   "mimetype": "text/x-python",
   "name": "python",
   "nbconvert_exporter": "python",
   "pygments_lexer": "ipython3",
   "version": "3.9.7"
  }
 },
 "nbformat": 4,
 "nbformat_minor": 5
}
