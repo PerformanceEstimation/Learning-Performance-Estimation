{
 "cells": [
  {
   "cell_type": "markdown",
   "id": "4599cf20-337a-455c-b306-54f482068d6a",
   "metadata": {},
   "source": [
    "# Summary\n",
    "This document corresponds to Exercise 2 of [this file](https://github.com/PerformanceEstimation/Learning-Performance-Estimation/blob/main/Exercises/Course.pdf).\n",
    "\n",
    "We first install a few packages."
   ]
  },
  {
   "cell_type": "code",
   "execution_count": null,
   "id": "54438bf5-ae83-449a-acdf-dbcea276f9c9",
   "metadata": {},
   "outputs": [],
   "source": [
    "!pip install sympy\n",
    "!pip install cvxpy"
   ]
  },
  {
   "cell_type": "markdown",
   "id": "e5121a7e-c27e-45a2-87b0-52e2dd1893c5",
   "metadata": {},
   "source": [
    "## Closed-form solutions for the LMI?\n",
    "\n",
    "Let us start by trying to solve this LMI numerically for a few values of $\\mu$, $L$, and $\\gamma_k$.\n",
    "The following code implements the LMI.\n",
    "\n",
    "### Numerical solutions to the LMI"
   ]
  },
  {
   "cell_type": "code",
   "execution_count": null,
   "id": "8a3d9535-e0a8-40d4-b276-64bd262d7662",
   "metadata": {},
   "outputs": [],
   "source": [
    "import cvxpy as cp\n",
    "def lmi_convergence_distance(L, mu, gamma):\n",
    "\n",
    "    # Write the LMI.\n",
    "    S = cp.Variable((2, 2)) # this is the matrix S\n",
    "    l1 = cp.Variable()      # this is the multiplier (lambda1 == lambda2) which we denote l1\n",
    "    tau = cp.Variable()     # this is the objective\n",
    "    \n",
    "    s11 = tau-1+l1*L*mu/(L-mu)\n",
    "    s12 = gamma-l1*(L+mu)/2/(L-mu)\n",
    "    s22 = l1/(L-mu)-gamma**2\n",
    "    \n",
    "    constraints = [S >> 0,\n",
    "                   S[0,0] == s11,\n",
    "                   S[1,1] == s22,\n",
    "                   S[0,1] == s12,\n",
    "                   S[1,0] == s12,\n",
    "                   l1 >= 0]\n",
    "    \n",
    "    prob = cp.Problem(cp.Minimize(tau), constraints)\n",
    "    prob.solve()\n",
    "    return tau.value, l1.value, S.value"
   ]
  },
  {
   "cell_type": "markdown",
   "id": "dd10fef1-a2c7-4c82-9d32-3a72ff77b5c2",
   "metadata": {},
   "source": [
    "The following code solves the LMI for a grid of $\\gamma_k$'s."
   ]
  },
  {
   "cell_type": "code",
   "execution_count": null,
   "id": "a6a6d4ea-7dde-44f2-a5da-1c2b484772cf",
   "metadata": {},
   "outputs": [],
   "source": [
    "import numpy as np\n",
    "import matplotlib.pyplot as plt\n",
    "\n",
    "nb_test = 50\n",
    "mu = .1\n",
    "L = 1\n",
    "gamma = np.linspace(-1., 3., num=nb_test)\n",
    "\n",
    "l1_list = list()\n",
    "tau_list = list()\n",
    "S_list = list()\n",
    "\n",
    "for i in range(nb_test):\n",
    "    tau,l1,S = lmi_convergence_distance(L, mu, gamma[i])\n",
    "    l1_list.append(l1[()])\n",
    "    tau_list.append(tau[()])\n",
    "    S_list.append(S)"
   ]
  },
  {
   "cell_type": "code",
   "execution_count": null,
   "id": "a2d50935-e28b-4657-b79d-0350e3af9692",
   "metadata": {},
   "outputs": [],
   "source": [
    "plt.plot(gamma, tau_list, '.-',label='$\\tau_1$')\n",
    "plt.plot(gamma, l1_list, '.-',label='$\\lambda_1$')\n",
    "\n",
    "plt.xlabel('$\\gamma$')\n",
    "plt.ylabel('Multipliers')\n",
    "plt.legend()\n",
    "plt.show()"
   ]
  },
  {
   "cell_type": "markdown",
   "id": "52973e72-8727-4ac5-b63c-b037d8ce57e4",
   "metadata": {},
   "source": [
    "A useful information about $S$ is its eigenvalues."
   ]
  },
  {
   "cell_type": "code",
   "execution_count": null,
   "id": "ced278ca-52ef-42e7-86ea-d0a2622f4582",
   "metadata": {},
   "outputs": [],
   "source": [
    "firsteig_list = list()\n",
    "seceig_list = list()\n",
    "\n",
    "for i in range(nb_test):\n",
    "    eigsV, _ = np.linalg.eigh(S_list[i])\n",
    "    firsteig_list.append(np.max(eigsV))\n",
    "    seceig_list.append(np.min(eigsV))\n",
    "\n",
    "plt.plot(gamma, firsteig_list, '.-',label='first eigenvalue')\n",
    "plt.plot(gamma, seceig_list, '.-',label='second eigenvalue')\n",
    "\n",
    "plt.xlabel('$\\gamma$')\n",
    "plt.ylabel('$\\Lambda(S)$')\n",
    "plt.legend()\n",
    "plt.show()"
   ]
  },
  {
   "cell_type": "markdown",
   "id": "2d4ac8e1-a1b9-4b27-bb6a-6dee602418c1",
   "metadata": {},
   "source": [
    "In case you have a candidate expression for $\\tau(\\mu,L,\\gamma_k)$, compare it with the numerics?"
   ]
  },
  {
   "cell_type": "code",
   "execution_count": null,
   "id": "0d118c5d-3c5b-449f-bcc4-9208f45365bb",
   "metadata": {},
   "outputs": [],
   "source": [
    "tau_candidates = [ np.max([(1-gamma[i]*L)**2,(1-gamma[i]*mu)**2]) for i in range(nb_test)]\n",
    "plt.plot(gamma, tau_list, '.-',label='LMI')\n",
    "plt.plot(gamma, tau_candidates, '--',label='TRIAL')\n",
    "\n",
    "plt.xlabel('$\\gamma$')\n",
    "plt.ylabel('Multipliers')\n",
    "plt.legend()\n",
    "\n",
    "plt.show()"
   ]
  },
  {
   "cell_type": "markdown",
   "id": "34dd04dc-880b-4884-9b75-006a2e1edec4",
   "metadata": {},
   "source": [
    "### Closed-form solutions to the LMI?\n",
    "\n",
    "As we saw numerically, the matrix $S$ has rank $1$ for most values of the step-sizes!\n",
    "As the problem of finding a bound on the convergence rate $\\frac{\\|x_{k+1}-x_\\star\\|^2}{\\|x_k-x_\\star\\|^2}$ corresponds to a linear problem with an LMI constraint, it is natural that the optimal solution is on the boundary of the feasible set, and we can use that for solving the problem in closed-form.\n",
    "\n",
    "We use a bit of symbolic computation below for simplicity.\n",
    "\n",
    "Complete the following code with the values in $S$:"
   ]
  },
  {
   "cell_type": "code",
   "execution_count": null,
   "id": "d78cb26b-ca29-4fa9-ba7b-dc561cfadacf",
   "metadata": {},
   "outputs": [],
   "source": [
    "import sympy as sm\n",
    "\n",
    "tau = sm.Symbol('tau')\n",
    "l1 = sm.Symbol('l1')\n",
    "gamma = sm.Symbol('gamma')\n",
    "L = sm.Symbol('L')\n",
    "mu = sm.Symbol('mu')\n",
    "\n",
    "S = sm.Matrix([[tau-1+l1*L*mu/(L-mu), gamma-l1*(L+mu)/2/(L-mu)], [gamma-l1*(L+mu)/2/(L-mu), l1/(L-mu)-gamma**2]])"
   ]
  },
  {
   "cell_type": "markdown",
   "id": "317a7876-12ee-4cb7-8170-6d49280db52b",
   "metadata": {},
   "source": [
    "For making $S$ rank defficient, let's choose $\\tau$ for cancelling out the determinant:"
   ]
  },
  {
   "cell_type": "code",
   "execution_count": null,
   "id": "d9ddb665-a94f-47e1-9a4e-b84fe1bce179",
   "metadata": {},
   "outputs": [],
   "source": [
    "candidate_tau=sm.solve(S.det(),tau)\n",
    "candidate_tau[0]"
   ]
  },
  {
   "cell_type": "markdown",
   "id": "918b79f3-3369-4986-9715-08805bc2d8ec",
   "metadata": {},
   "source": [
    "There are two possibilities for choosing $\\lambda_1$:\n",
    "- on the boundary of the PSD cone ($S=0$),\n",
    "- minimize $\\tau$ (and verify that the corresponding $(\\lambda_1,\\tau,S)$ is feasible for the LMI afterwards).\n",
    "\n",
    "Because we observed numerically that $S$ was rank $1$ for most choices of stepsizes, let's focus on the second possibility."
   ]
  },
  {
   "cell_type": "code",
   "execution_count": null,
   "id": "9b97743b-753d-46d8-a4ee-b6deeaf33710",
   "metadata": {},
   "outputs": [],
   "source": [
    "dtau=sm.simplify(sm.diff(candidate_tau[0],l1)) #differentiate tau with respect to lambda_1\n",
    "dtau"
   ]
  },
  {
   "cell_type": "code",
   "execution_count": null,
   "id": "382c808b-6ee6-48f2-b661-23ab08aa2df0",
   "metadata": {},
   "outputs": [],
   "source": [
    "l1sol=sm.solve(dtau,l1) # solve dtau/dlambda_1 == 0 in lambda1\n",
    "l1sol # show the two possibilities!"
   ]
  },
  {
   "cell_type": "markdown",
   "id": "73c6ccf5-ce6d-4d33-997e-5932c7321829",
   "metadata": {},
   "source": [
    "The corresponding \"final\" expressions for $\\tau$ that must be checked are therefore:"
   ]
  },
  {
   "cell_type": "code",
   "execution_count": null,
   "id": "29d4f572-a891-4aca-8bc1-fc492c36d4d0",
   "metadata": {},
   "outputs": [],
   "source": [
    "exprtau1=sm.simplify(candidate_tau[0].subs(l1,l1sol[0]))\n",
    "exprtau1.factor()"
   ]
  },
  {
   "cell_type": "code",
   "execution_count": null,
   "id": "05dd00b2-60da-4b20-bdf3-772ea246258d",
   "metadata": {},
   "outputs": [],
   "source": [
    "exprtau2=sm.simplify(candidate_tau[0].subs(l1,l1sol[1]))\n",
    "exprtau2.factor()"
   ]
  },
  {
   "cell_type": "markdown",
   "id": "9234ca23-7f45-468a-9d68-3607ba544e24",
   "metadata": {},
   "source": [
    "### Bonus: how to get to the LMI using symbolic computations?"
   ]
  },
  {
   "cell_type": "code",
   "execution_count": null,
   "id": "3ff44b50-a235-4908-89b8-420d5cb48173",
   "metadata": {},
   "outputs": [],
   "source": [
    "x0 = sm.Symbol('x0')\n",
    "g0 = sm.Symbol('g0')\n",
    "f0 = sm.Symbol('f0')\n",
    "xs = 0 # wlog, x_* = 0\n",
    "gs = 0 # constraint g_* = 0\n",
    "fs = 0 # wlog, f_* = 0\n",
    "gamma = sm.Symbol('gamma')\n",
    "x1 = x0 - gamma * g0\n",
    "\n",
    "L = sm.Symbol('L')\n",
    "mu = sm.Symbol('mu')\n",
    "\n",
    "tau = sm.Symbol('tau')\n",
    "l1 = sm.Symbol('l1')\n",
    "l2 = sm.Symbol('l2')\n",
    "# the two interpolation constraints in the form \"constraint <= 0\"\n",
    "constraint1 = f0 - fs + g0*(xs-x0) + 1/2/L * g0**2 + mu/(2*(1-mu/L)) * (x0-xs-1/L*g0)**2\n",
    "constraint2 = fs - f0 + 1/2/L * g0**2 + mu/(2*(1-mu/L)) * (x0-xs-1/L*g0)**2\n",
    "primal_objective = (x1-xs)**2\n",
    "initial_condition = (x0-xs)**2\n",
    "\n",
    "# This LMI should be >= 0\n",
    "LMI = sm.simplify(sm.hessian( l1*constraint1 + l2*constraint2 + tau*initial_condition - primal_objective, (x0,g0))/2) \n",
    "# This is the linear constraint ==0 in the LMI\n",
    "LinearConst = sm.simplify(sm.diff(l1*constraint1 + l2*constraint2 + tau*initial_condition - primal_objective,f0))\n",
    "\n",
    "# For getting the same LMI as in the document, substitute l2 by l1 and simplify\n",
    "LMI_simplified = sm.simplify(LMI.subs(l2,l1))"
   ]
  },
  {
   "cell_type": "code",
   "execution_count": null,
   "id": "391f0047-49ad-4b18-8a39-e5297b1654f6",
   "metadata": {},
   "outputs": [],
   "source": [
    "LMI_simplified"
   ]
  },
  {
   "cell_type": "code",
   "execution_count": null,
   "id": "87b215e1-0de9-41f8-9d43-30591cf8c6e4",
   "metadata": {},
   "outputs": [],
   "source": []
  }
 ],
 "metadata": {
  "kernelspec": {
   "display_name": "Python 3 (ipykernel)",
   "language": "python",
   "name": "python3"
  },
  "language_info": {
   "codemirror_mode": {
    "name": "ipython",
    "version": 3
   },
   "file_extension": ".py",
   "mimetype": "text/x-python",
   "name": "python",
   "nbconvert_exporter": "python",
   "pygments_lexer": "ipython3",
   "version": "3.9.7"
  }
 },
 "nbformat": 4,
 "nbformat_minor": 5
}
