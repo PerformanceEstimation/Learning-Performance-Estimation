{
 "cells": [
  {
   "cell_type": "markdown",
   "id": "8c46ab64-4c9e-4697-bdd4-dac4f18c849e",
   "metadata": {
    "tags": []
   },
   "source": [
    "# Summary\n",
    "This document corresponds to Exercise 4 of [this file](https://github.com/PerformanceEstimation/Learning-Performance-Estimation/blob/main/Exercises/Course.pdf).\n",
    "\n",
    "The first step consists in installing [PEPit](https://pypi.org/project/PEPit/) and its dependencies."
   ]
  },
  {
   "cell_type": "code",
   "execution_count": null,
   "id": "2e9edc82-9fcd-428c-b3b7-8154cc5f7e93",
   "metadata": {},
   "outputs": [],
   "source": [
    "!pip install pepit"
   ]
  },
  {
   "cell_type": "code",
   "execution_count": null,
   "id": "de1b6b5f-f5be-4cd0-a1a8-2eb40ebda9f5",
   "metadata": {},
   "outputs": [],
   "source": [
    "from PEPit import PEP\n",
    "from PEPit.functions import ConvexFunction\n",
    "from PEPit.primitive_steps import proximal_step\n",
    "\n",
    "def wc_proximal_point(gamma, n, verbose=1):\n",
    "    \n",
    "    # Instantiate PEP\n",
    "    problem = PEP()\n",
    "\n",
    "    # Declare a convex function\n",
    "    func = problem.declare_function(ConvexFunction)\n",
    "\n",
    "    # Start by defining its unique optimal point xs = x_* and corresponding function value fs = f_*\n",
    "    xs = func.stationary_point()\n",
    "    fs = func(xs)\n",
    "\n",
    "    # Then define the starting point x0 of the algorithm\n",
    "    x0 = problem.set_initial_point()\n",
    "\n",
    "    # Set the initial constraint that is the distance between x0 and x^*\n",
    "    problem.set_initial_condition((x0 - xs) ** 2 <= 1)\n",
    "\n",
    "    # Run n steps of the proximal point method\n",
    "    x = x0\n",
    "    for _ in range(n):\n",
    "        x, _, fx = proximal_step(x, func, gamma)\n",
    "\n",
    "    # Set the performance metric to the final distance to optimum in function values\n",
    "    problem.set_performance_metric(fx - fs)\n",
    "\n",
    "    # Solve the PEP\n",
    "    pepit_tau = problem.solve(verbose,dimension_reduction_heuristic=\"trace\")\n",
    "\n",
    "    # Return the worst-case guarantee of the evaluated method \n",
    "    return pepit_tau, (x-xs).eval()"
   ]
  },
  {
   "cell_type": "code",
   "execution_count": null,
   "id": "c834a646-4864-42a3-bf1d-2c3afb41140e",
   "metadata": {},
   "outputs": [],
   "source": [
    "import numpy as np\n",
    "import time\n",
    "import matplotlib.pyplot as plt\n",
    "\n",
    "n_max = 30\n",
    "n_list = list(range(1,n_max))\n",
    "gamma = 1\n",
    "verbose = 0\n",
    "\n",
    "pepits_taus_ppm = list()\n",
    "\n",
    "for i in range(n_max-1):\n",
    "    t0= time.process_time()\n",
    "    pepit_tau,_ = wc_proximal_point(gamma, i+1, verbose)\n",
    "    pepits_taus_ppm.append(pepit_tau)\n",
    "    t1 = time.process_time() - t0\n",
    "    print(i+1, '/', n_max-1,' done (elapsed time:',\"%.2f\" %t1,'[s])')"
   ]
  },
  {
   "cell_type": "code",
   "execution_count": null,
   "id": "2bc5fa5e-c91f-45a3-b939-fc40bd64ee5c",
   "metadata": {},
   "outputs": [],
   "source": [
    "plt.plot(n_list, pepits_taus_ppm, '-')\n",
    "\n",
    "plt.xlabel('N')\n",
    "plt.ylabel('f(x_i)-f_\\star')\n",
    "plt.loglog()\n",
    "plt.show()"
   ]
  },
  {
   "cell_type": "code",
   "execution_count": null,
   "id": "7fac68a6-59bb-4dfd-b8c2-7c7b824b3c0a",
   "metadata": {},
   "outputs": [],
   "source": []
  }
 ],
 "metadata": {
  "kernelspec": {
   "display_name": "Python 3 (ipykernel)",
   "language": "python",
   "name": "python3"
  },
  "language_info": {
   "codemirror_mode": {
    "name": "ipython",
    "version": 3
   },
   "file_extension": ".py",
   "mimetype": "text/x-python",
   "name": "python",
   "nbconvert_exporter": "python",
   "pygments_lexer": "ipython3",
   "version": "3.9.7"
  }
 },
 "nbformat": 4,
 "nbformat_minor": 5
}
