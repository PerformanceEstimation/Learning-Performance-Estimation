{
 "cells": [
  {
   "cell_type": "markdown",
   "id": "85bcf062-7094-42da-b0ec-ec582775fa17",
   "metadata": {},
   "source": [
    "# Summary\n",
    "This document corresponds to Exercise 9 of [this file](https://github.com/PerformanceEstimation/Learning-Performance-Estimation/blob/main/Course.pdf).\n",
    "\n",
    "If [PEPit](https://pypi.org/project/PEPit/) is not already installed, please execute the following cell."
   ]
  },
  {
   "cell_type": "code",
   "execution_count": null,
   "id": "397d19f6-f2fe-4989-b042-3980f2f504f6",
   "metadata": {},
   "outputs": [],
   "source": [
    "!pip install pepit"
   ]
  },
  {
   "cell_type": "markdown",
   "id": "b572bf89-759e-4bf9-bc32-e6b87f7475eb",
   "metadata": {},
   "source": [
    "### Exercise 9.1\n",
    "\n",
    "No coding required.\n",
    "\n",
    "### Exercise 9.2\n",
    "\n",
    "The following code allows computing the worst-case value for the desired ratio."
   ]
  },
  {
   "cell_type": "code",
   "execution_count": 5,
   "id": "fffd02e4-517d-40a7-b8c5-378d1ae5c6fa",
   "metadata": {},
   "outputs": [],
   "source": [
    "from PEPit import PEP\n",
    "from PEPit.functions import SmoothStronglyConvexFunction\n",
    "from PEPit.functions import ConvexFunction\n",
    "from PEPit.primitive_steps import proximal_step\n",
    "\n",
    "\n",
    "def wc_proximal_gradient(L, mu, gamma, verbose=1):\n",
    "\n",
    "    # Instantiate PEP\n",
    "    problem = PEP()\n",
    "\n",
    "    # Declare a strongly convex smooth function and a closed convex proper function\n",
    "    f1 = problem.declare_function(SmoothStronglyConvexFunction, mu=mu, L=L)\n",
    "    f2 = problem.declare_function(ConvexFunction)\n",
    "    func = f1 + f2\n",
    "\n",
    "    # Start by defining its unique optimal point xs = x_*\n",
    "    xs = func.stationary_point()\n",
    "\n",
    "    # Then define the starting point x0 of the algorithm\n",
    "    x0 = problem.set_initial_point()\n",
    "\n",
    "    # Set the initial constraint that is the distance between x0 and x^*\n",
    "    problem.set_initial_condition((x0 - xs) ** 2 <= 1)\n",
    "\n",
    "    # Run the proximal gradient method starting from x0\n",
    "    y = x0 - gamma * f1.gradient(x0)\n",
    "    x1, _, _ = proximal_step(y, f2, gamma)\n",
    "\n",
    "    # Set the performance metric to the distance between x and xs\n",
    "    problem.set_performance_metric((x1 - xs) ** 2)\n",
    "\n",
    "    # Solve the PEP\n",
    "    pepit_tau = problem.solve(verbose=verbose)\n",
    "    \n",
    "    # Return the worst-case guarantee of the evaluated method \n",
    "    return pepit_tau"
   ]
  },
  {
   "cell_type": "markdown",
   "id": "b3105d8a-6f47-4261-bc2f-678b46ffc6ec",
   "metadata": {},
   "source": [
    "### Exercise 9.3\n",
    "\n",
    "Use a rank minimization heuristic!"
   ]
  },
  {
   "cell_type": "code",
   "execution_count": 6,
   "id": "6f2aae2e-93bb-4e7d-815f-077512f85ace",
   "metadata": {},
   "outputs": [],
   "source": [
    "def wc_proximal_gradient_lowdim(L, mu, gamma, verbose=1):\n",
    "\n",
    "    # Instantiate PEP\n",
    "    problem = PEP()\n",
    "\n",
    "    # Declare a strongly convex smooth function and a closed convex proper function\n",
    "    f1 = problem.declare_function(SmoothStronglyConvexFunction, mu=mu, L=L)\n",
    "    f2 = problem.declare_function(ConvexFunction)\n",
    "    func = f1 + f2\n",
    "\n",
    "    # Start by defining its unique optimal point xs = x_*\n",
    "    xs = func.stationary_point()\n",
    "\n",
    "    # Then define the starting point x0 of the algorithm\n",
    "    x0 = problem.set_initial_point()\n",
    "\n",
    "    # Set the initial constraint that is the distance between x0 and x^*\n",
    "    problem.set_initial_condition((x0 - xs) ** 2 <= 1)\n",
    "\n",
    "    # Run the proximal gradient method starting from x0\n",
    "    y = x0 - gamma * f1.gradient(x0)\n",
    "    x1, _, _ = proximal_step(y, f2, gamma)\n",
    "\n",
    "    # Set the performance metric to the distance between x and xs\n",
    "    problem.set_performance_metric((x1 - xs) ** 2)\n",
    "\n",
    "    # Solve the PEP\n",
    "    pepit_tau = problem.solve(verbose=verbose, dimension_reduction_heuristic=\"trace\")\n",
    "    \n",
    "    # Return the worst-case guarantee of the evaluated method \n",
    "    return pepit_tau"
   ]
  },
  {
   "cell_type": "code",
   "execution_count": null,
   "id": "236ec8b8-54af-43b6-a945-0c901c96b244",
   "metadata": {},
   "outputs": [],
   "source": []
  }
 ],
 "metadata": {
  "kernelspec": {
   "display_name": "Python 3 (ipykernel)",
   "language": "python",
   "name": "python3"
  },
  "language_info": {
   "codemirror_mode": {
    "name": "ipython",
    "version": 3
   },
   "file_extension": ".py",
   "mimetype": "text/x-python",
   "name": "python",
   "nbconvert_exporter": "python",
   "pygments_lexer": "ipython3",
   "version": "3.9.7"
  }
 },
 "nbformat": 4,
 "nbformat_minor": 5
}
