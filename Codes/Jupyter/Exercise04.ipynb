{
 "cells": [
  {
   "cell_type": "markdown",
   "id": "8c46ab64-4c9e-4697-bdd4-dac4f18c849e",
   "metadata": {
    "tags": []
   },
   "source": [
    "# Summary\n",
    "This document corresponds to Exercise 4 of [this file](https://github.com/PerformanceEstimation/Learning-Performance-Estimation/blob/main/Course.pdf).\n",
    "\n",
    "If [PEPit](https://pypi.org/project/PEPit/) is not already installed, please execute the following cell."
   ]
  },
  {
   "cell_type": "code",
   "execution_count": null,
   "id": "2e9edc82-9fcd-428c-b3b7-8154cc5f7e93",
   "metadata": {},
   "outputs": [],
   "source": [
    "!pip install pepit"
   ]
  },
  {
   "cell_type": "markdown",
   "id": "eb01f937-5012-4774-b656-a27e0fe32082",
   "metadata": {},
   "source": [
    "### Exercise 4.1\n",
    "\n",
    "This exercise requires no coding.\n",
    "\n",
    "### Exercise 4.2\n",
    "\n",
    "The following lines allow computing the worst-case value of the ratio $\\frac{f(x_N)-f_\\star}{\\|x_0-x_\\star\\|^2}$ for the proximal point algorithm when $f$ is a (closed, proper) convex function."
   ]
  },
  {
   "cell_type": "code",
   "execution_count": null,
   "id": "de1b6b5f-f5be-4cd0-a1a8-2eb40ebda9f5",
   "metadata": {},
   "outputs": [],
   "source": [
    "from PEPit import PEP\n",
    "from PEPit.functions import ConvexFunction\n",
    "from PEPit.primitive_steps import proximal_step\n",
    "\n",
    "def wc_proximal_point(gamma, n, verbose=1):\n",
    "    \n",
    "    # Instantiate PEP\n",
    "    problem = PEP()\n",
    "\n",
    "    # Declare a convex function\n",
    "    func = problem.declare_function(ConvexFunction)\n",
    "\n",
    "    # Start by defining its unique optimal point xs = x_* and corresponding function value fs = f_*\n",
    "    xs = func.stationary_point()\n",
    "    fs = func(xs)\n",
    "\n",
    "    # Then define the starting point x0 of the algorithm\n",
    "    x0 = problem.set_initial_point()\n",
    "\n",
    "    # Set the initial constraint that is the distance between x0 and x^*\n",
    "    problem.set_initial_condition((x0 - xs) ** 2 <= 1)\n",
    "\n",
    "    # Run n steps of the proximal point method\n",
    "    x = x0\n",
    "    for _ in range(n):\n",
    "        x, _, fx = proximal_step(x, func, gamma)\n",
    "\n",
    "    # Set the performance metric to the final distance to optimum in function values\n",
    "    problem.set_performance_metric(fx - fs)\n",
    "\n",
    "    # Solve the PEP\n",
    "    pepit_tau = problem.solve(verbose)\n",
    "\n",
    "    # Return the worst-case guarantee of the evaluated method \n",
    "    return pepit_tau"
   ]
  },
  {
   "cell_type": "code",
   "execution_count": null,
   "id": "c834a646-4864-42a3-bf1d-2c3afb41140e",
   "metadata": {},
   "outputs": [],
   "source": [
    "import numpy as np\n",
    "import time\n",
    "import matplotlib.pyplot as plt\n",
    "\n",
    "n_max = 30\n",
    "n_list = list(range(1,n_max))\n",
    "gamma = 1\n",
    "verbose = 0\n",
    "\n",
    "pepits_taus_ppm = list()\n",
    "\n",
    "for i in range(n_max-1):\n",
    "    t0= time.process_time()\n",
    "    pepit_tau,_ = wc_proximal_point(gamma, i+1, verbose)\n",
    "    pepits_taus_ppm.append(pepit_tau)\n",
    "    t1 = time.process_time() - t0\n",
    "    print(i+1, '/', n_max-1,' done (elapsed time:',\"%.2f\" %t1,'[s])')"
   ]
  },
  {
   "cell_type": "code",
   "execution_count": null,
   "id": "2bc5fa5e-c91f-45a3-b939-fc40bd64ee5c",
   "metadata": {},
   "outputs": [],
   "source": [
    "plt.plot(n_list, pepits_taus_ppm, '-')\n",
    "\n",
    "plt.xlabel('N')\n",
    "plt.ylabel('f(x_i)-f_\\star')\n",
    "plt.loglog()\n",
    "plt.show()"
   ]
  },
  {
   "cell_type": "markdown",
   "id": "877a29ef-b4eb-42e7-9fc5-38f67496b6b8",
   "metadata": {},
   "source": [
    "### Exercise 4.3\n",
    "\n",
    "Using the previous code, can you guess the dependence (of the value of the worst-case ratio) on $N$ and $\\gamma$?"
   ]
  },
  {
   "cell_type": "markdown",
   "id": "e14550d9-3781-4e55-bac7-f5f090d10754",
   "metadata": {},
   "source": [
    "### Exercise 4.4\n",
    "\n",
    "Can you find a low-dimensional worst-case example?\n",
    "\n",
    "The following cells use the trace heuristic for trying to identify a low-dimensional worst-case example."
   ]
  },
  {
   "cell_type": "code",
   "execution_count": null,
   "id": "5296937e-ac53-4128-a045-4923d8d1ac68",
   "metadata": {},
   "outputs": [],
   "source": [
    "from PEPit import PEP\n",
    "from PEPit.functions import ConvexFunction\n",
    "from PEPit.primitive_steps import proximal_step\n",
    "\n",
    "def wc_proximal_point(gamma, n, verbose=1):\n",
    "    \n",
    "    # Instantiate PEP\n",
    "    problem = PEP()\n",
    "\n",
    "    # Declare a convex function\n",
    "    func = problem.declare_function(ConvexFunction)\n",
    "\n",
    "    # Start by defining its unique optimal point xs = x_* and corresponding function value fs = f_*\n",
    "    xs = func.stationary_point()\n",
    "    fs = func(xs)\n",
    "\n",
    "    # Then define the starting point x0 of the algorithm\n",
    "    x0 = problem.set_initial_point()\n",
    "\n",
    "    # Set the initial constraint that is the distance between x0 and x^*\n",
    "    problem.set_initial_condition((x0 - xs) ** 2 <= 1)\n",
    "\n",
    "    # Run n steps of the proximal point method\n",
    "    x = x0\n",
    "    list_x = list() # store all x's\n",
    "    list_f = list() # store all f's\n",
    "    for _ in range(n):\n",
    "        x, _, fx = proximal_step(x, func, gamma)\n",
    "        list_x.append(x)\n",
    "        list_f.append(fx)\n",
    "\n",
    "    # Set the performance metric to the final distance to optimum in function values\n",
    "    problem.set_performance_metric(fx - fs)\n",
    "\n",
    "    # Solve the PEP\n",
    "    pepit_tau = problem.solve(verbose,dimension_reduction_heuristic=\"trace\")\n",
    "    \n",
    "    # Store all the points\n",
    "    list_x_solved = list()\n",
    "    list_f_solved = list()\n",
    "    for i in range(n):\n",
    "        list_x_solved.append((list_x[i]-xs).eval())\n",
    "        list_f_solved.append((list_f[i]-fs).eval())\n",
    "\n",
    "    # Return the worst-case guarantee of the evaluated method \n",
    "    return pepit_tau, list_x_solved, list_f_solved"
   ]
  },
  {
   "cell_type": "markdown",
   "id": "0766778b-3878-44ca-9e36-dc5f964faa3d",
   "metadata": {},
   "source": [
    "Let's test this code: what's the output for certain values of $\\gamma$ and $N$? What's the dimension of the worst-case found?"
   ]
  },
  {
   "cell_type": "code",
   "execution_count": null,
   "id": "365c8d11-5e61-46d3-a156-114a4fb9e877",
   "metadata": {},
   "outputs": [],
   "source": [
    "gamma = 1\n",
    "n = 20\n",
    "\n",
    "# compute a low-dimensional worst-case example\n",
    "pepit_tau, list_x_solved, list_f_solved = wc_proximal_point(gamma, n, verbose=1)"
   ]
  },
  {
   "cell_type": "markdown",
   "id": "7aa29032-3f40-495b-80d4-226792d416d7",
   "metadata": {},
   "source": [
    "Plot the one-dimensional worst-case example!"
   ]
  },
  {
   "cell_type": "code",
   "execution_count": null,
   "id": "f1e83e0e-f255-43b4-8694-8aa429dc5167",
   "metadata": {},
   "outputs": [],
   "source": [
    "import matplotlib.pyplot as plt\n",
    "\n",
    "# if there is only 1 nonzero eigenvalue, plot the 1-dimensional WC function:\n",
    "first_coordinate_x = list()\n",
    "for i in range(n):\n",
    "    first_coordinate_x.append(list_x_solved[i][0])\n",
    "    \n",
    "plt.plot(first_coordinate_x,list_f_solved,'.',label='iterates')\n",
    "plt.plot(first_coordinate_x[0],list_f_solved[0],'.',label='x0')\n",
    "plt.plot(0,0,'.',label='xs')\n",
    "plt.legend()"
   ]
  },
  {
   "cell_type": "code",
   "execution_count": null,
   "id": "5d76ebf4-c062-42dc-a086-6f9145743e46",
   "metadata": {},
   "outputs": [],
   "source": []
  }
 ],
 "metadata": {
  "kernelspec": {
   "display_name": "Python 3 (ipykernel)",
   "language": "python",
   "name": "python3"
  },
  "language_info": {
   "codemirror_mode": {
    "name": "ipython",
    "version": 3
   },
   "file_extension": ".py",
   "mimetype": "text/x-python",
   "name": "python",
   "nbconvert_exporter": "python",
   "pygments_lexer": "ipython3",
   "version": "3.9.7"
  }
 },
 "nbformat": 4,
 "nbformat_minor": 5
}
