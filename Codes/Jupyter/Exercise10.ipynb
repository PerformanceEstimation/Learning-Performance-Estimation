{
 "cells": [
  {
   "cell_type": "markdown",
   "id": "1b942419-ee9f-4de8-8181-3e9f1da37d99",
   "metadata": {},
   "source": [
    "# Summary\n",
    "This document corresponds to Exercise 10 of [this file](https://github.com/PerformanceEstimation/Learning-Performance-Estimation/blob/main/Course.pdf).\n",
    "\n",
    "If [PEPit](https://pypi.org/project/PEPit/) is not already installed, please execute the following cell."
   ]
  },
  {
   "cell_type": "code",
   "execution_count": null,
   "id": "b468c0d4-93a7-4380-ae3d-650d85614cb8",
   "metadata": {},
   "outputs": [],
   "source": [
    "!pip install pepit"
   ]
  },
  {
   "cell_type": "markdown",
   "id": "a833ff37-024d-44e3-b348-5b4f6b3ff632",
   "metadata": {},
   "source": [
    "### Exercise 10.1\n",
    "\n",
    "No code required.\n",
    "\n",
    "### Exercise 10.2\n",
    "\n",
    "The following cell allows to compute the desired worst-case ratio."
   ]
  },
  {
   "cell_type": "code",
   "execution_count": null,
   "id": "f6890f20-0bea-4521-8f92-25fb808e515d",
   "metadata": {},
   "outputs": [],
   "source": [
    "from PEPit import PEP\n",
    "from PEPit.functions import SmoothStronglyConvexFunction\n",
    "from PEPit.functions import ConvexFunction\n",
    "from PEPit.primitive_steps import proximal_step\n",
    "\n",
    "\n",
    "def wc_douglas_rachford_splitting_contraction(mu, L, alpha, theta, verbose=1):\n",
    "    \n",
    "    # Instantiate PEP\n",
    "    problem = PEP()\n",
    "\n",
    "    # Declare a convex and a smooth strongly convex function.\n",
    "    f = problem.declare_function(SmoothStronglyConvexFunction, mu=mu, L=L)\n",
    "    h = problem.declare_function(ConvexFunction)\n",
    "\n",
    "    # Define the function to optimize as the sum of func1 and func2\n",
    "    F = f + h\n",
    "\n",
    "    # Start by defining its unique optimal point xs = x_*\n",
    "    xs = F.stationary_point()\n",
    "\n",
    "    # Then define the starting points w0 and w0p of the algorithm\n",
    "    w0 = problem.set_initial_point()\n",
    "    w0p = problem.set_initial_point()\n",
    "\n",
    "    # Set the initial constraint that is the distance between w0 and w0p\n",
    "    problem.set_initial_condition((w0 - w0p) ** 2 <= 1)\n",
    "\n",
    "    # Compute n steps of the Douglas Rachford Splitting starting from w0\n",
    "    x0, _, _ = proximal_step(w0, h, alpha)\n",
    "    y0, _, _ = proximal_step(2 * x0 - w0, f, alpha)\n",
    "    w1 = w0 + theta * (y0 - x0)\n",
    "\n",
    "    # Compute n steps of the Douglas Rachford Splitting starting from w0p\n",
    "    x0p, _, _ = proximal_step(w0p, h, alpha)\n",
    "    y0p, _, _ = proximal_step(2 * x0p - w0p, f, alpha)\n",
    "    w1p = w0p + theta * (y0p - x0p)\n",
    "\n",
    "    # Set the performance metric to the final distance between w and wp\n",
    "    problem.set_performance_metric((w1 - w1p) ** 2)\n",
    "\n",
    "    # Solve the PEP\n",
    "    pepit_tau = problem.solve(verbose=verbose)\n",
    "\n",
    "    # Return the worst-case guarantee of the evaluated method \n",
    "    return pepit_tau"
   ]
  },
  {
   "cell_type": "markdown",
   "id": "b7804e38-574c-44d4-91c3-5ee574477369",
   "metadata": {},
   "source": [
    "Numerical trials for a few values of $(\\mu,L,\\alpha)$ (and $\\theta=1$):"
   ]
  },
  {
   "cell_type": "code",
   "execution_count": null,
   "id": "b0509f4f-8d80-4e08-af3e-3ffc53fe16e5",
   "metadata": {},
   "outputs": [],
   "source": [
    "mu = .1\n",
    "L = 1\n",
    "alpha = 1\n",
    "theta = 1\n",
    "\n",
    "wc_douglas_rachford_splitting_contraction(mu, L, alpha, theta,  verbose=1)\n",
    "\n",
    "(max(1 / (1 + mu * alpha), alpha * L / (1 + alpha * L))) ** 2"
   ]
  },
  {
   "cell_type": "markdown",
   "id": "d783f7dc-d35e-4784-b2d0-e8e004441874",
   "metadata": {},
   "source": [
    "### Exercise 10.3\n",
    "\n",
    "Low-dimensional worst-case examples?"
   ]
  },
  {
   "cell_type": "code",
   "execution_count": null,
   "id": "90ca6d0a-bc81-48f2-a6ba-80d40488aed5",
   "metadata": {},
   "outputs": [],
   "source": [
    "from PEPit import PEP\n",
    "from PEPit.functions import SmoothStronglyConvexFunction\n",
    "from PEPit.functions import ConvexFunction\n",
    "from PEPit.primitive_steps import proximal_step\n",
    "\n",
    "\n",
    "def wc_douglas_rachford_splitting_contraction_lowdim(mu, L, alpha, theta, n, verbose=1):\n",
    "    \n",
    "    # Instantiate PEP\n",
    "    problem = PEP()\n",
    "\n",
    "    # Declare a convex and a smooth strongly convex function.\n",
    "    f = problem.declare_function(SmoothStronglyConvexFunction, mu=mu, L=L)\n",
    "    h = problem.declare_function(ConvexFunction)\n",
    "\n",
    "    # Define the function to optimize as the sum of func1 and func2\n",
    "    F = f + h\n",
    "\n",
    "    # Start by defining its unique optimal point xs = x_*\n",
    "    xs = F.stationary_point()\n",
    "\n",
    "    # Then define the starting points w0 and w0p of the algorithm\n",
    "    w0 = problem.set_initial_point()\n",
    "    w0p = problem.set_initial_point()\n",
    "\n",
    "    # Set the initial constraint that is the distance between w0 and w0p\n",
    "    problem.set_initial_condition((w0 - w0p) ** 2 <= 1)\n",
    "\n",
    "    # Compute n steps of the Douglas Rachford Splitting starting from w0\n",
    "    w = w0\n",
    "    for _ in range(n):\n",
    "        x, _, hx = proximal_step(w, h, alpha)\n",
    "        y, _, fy = proximal_step(2 * x - w, f, alpha)\n",
    "        w = w + theta * (y - x)\n",
    "\n",
    "    # Compute n steps of the Douglas Rachford Splitting starting from w0p\n",
    "    wp = w0p\n",
    "    for _ in range(n):\n",
    "        xp, _, hxp = proximal_step(wp, h, alpha)\n",
    "        yp, _, fyp = proximal_step(2 * xp - wp, f, alpha)\n",
    "        wp = wp + theta * (yp - xp)\n",
    "\n",
    "    # Set the performance metric to the final distance between w and wp\n",
    "    problem.set_performance_metric((w - wp) ** 2)\n",
    "\n",
    "    # Solve the PEP\n",
    "    pepit_tau = problem.solve(verbose=verbose, dimension_reduction_heuristic=\"trace\")\n",
    "        \n",
    "    # Return the worst-case guarantee of the evaluated method \n",
    "    return pepit_tau"
   ]
  },
  {
   "cell_type": "code",
   "execution_count": null,
   "id": "45802241-4305-43a1-9638-5f71cb1f8de7",
   "metadata": {},
   "outputs": [],
   "source": [
    "mu = .1\n",
    "L = 1\n",
    "alpha = 10\n",
    "theta = 1\n",
    "n = 10\n",
    "\n",
    "pepit_tau = wc_douglas_rachford_splitting_contraction_lowdim(mu, L, alpha, theta, n, verbose=1)\n"
   ]
  },
  {
   "cell_type": "code",
   "execution_count": null,
   "id": "bfc7db8a-f4a3-48c9-8207-48619a52a3f2",
   "metadata": {},
   "outputs": [],
   "source": []
  }
 ],
 "metadata": {
  "kernelspec": {
   "display_name": "Python 3 (ipykernel)",
   "language": "python",
   "name": "python3"
  },
  "language_info": {
   "codemirror_mode": {
    "name": "ipython",
    "version": 3
   },
   "file_extension": ".py",
   "mimetype": "text/x-python",
   "name": "python",
   "nbconvert_exporter": "python",
   "pygments_lexer": "ipython3",
   "version": "3.9.7"
  }
 },
 "nbformat": 4,
 "nbformat_minor": 5
}
