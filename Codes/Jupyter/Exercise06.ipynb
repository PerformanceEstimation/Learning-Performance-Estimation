{
 "cells": [
  {
   "cell_type": "markdown",
   "id": "8ddc86dc-4457-4c09-ba96-b98a2c5adb92",
   "metadata": {},
   "source": [
    "# Summary\n",
    "This document corresponds to Exercise 6 of [this file](https://github.com/PerformanceEstimation/Learning-Performance-Estimation/blob/main/Course.pdf).\n",
    "\n",
    "If [PEPit](https://pypi.org/project/PEPit/) is not already installed, please execute the following cell."
   ]
  },
  {
   "cell_type": "code",
   "execution_count": null,
   "id": "06a23fc3-a30a-41ba-9c65-9e2459ae0e96",
   "metadata": {},
   "outputs": [],
   "source": [
    "!pip install pepit"
   ]
  },
  {
   "cell_type": "markdown",
   "id": "3edd17a2-99a1-4791-8c78-2c378385398e",
   "metadata": {},
   "source": [
    "### Exercise 6.1\n",
    "\n",
    "No coding required.\n",
    "\n",
    "### Exercise 6.2"
   ]
  },
  {
   "cell_type": "code",
   "execution_count": null,
   "id": "b975f87b-807f-4bee-942b-c25ace2ca184",
   "metadata": {},
   "outputs": [],
   "source": [
    "from PEPit import PEP\n",
    "from PEPit.operators import MonotoneOperator\n",
    "from PEPit.primitive_steps import proximal_step\n",
    "\n",
    "alpha = 1\n",
    "n = 50\n",
    "\n",
    "verbose = 1\n",
    "\n",
    "# Instantiate PEP\n",
    "problem = PEP()\n",
    "\n",
    "# Declare a monotone operator\n",
    "A = problem.declare_function(MonotoneOperator)\n",
    "\n",
    "# Start by defining its unique optimal point xs = x_*\n",
    "xs = A.stationary_point()\n",
    "\n",
    "# Then define the starting point x0 of the algorithm and its gradient value g0\n",
    "x0 = problem.set_initial_point()\n",
    "\n",
    "# Set the initial constraint that is the distance between x0 and x^*\n",
    "problem.set_initial_condition((x0 - xs) ** 2 <= 1)\n",
    "\n",
    "# Compute n steps of the Proximal Gradient method starting from x0\n",
    "x = list()\n",
    "x.append(x0)\n",
    "current_x = x0\n",
    "for _ in range(n):\n",
    "    previous_x = current_x\n",
    "    current_x, _, _ = proximal_step(previous_x, A, alpha)\n",
    "    x.append(current_x)\n",
    "\n",
    "# Set the performance metric to the distance between x(n) and x(n-1)\n",
    "problem.set_performance_metric((current_x - previous_x) ** 2)\n",
    "\n",
    "# Solve the PEP\n",
    "pepit_tau = problem.solve(verbose=verbose)"
   ]
  },
  {
   "cell_type": "markdown",
   "id": "6f50bb48-1a84-48ea-9507-a5cf6882e645",
   "metadata": {},
   "source": [
    "### Exercise 6.3\n",
    "\n",
    "Use previous code with dimension reduction (here, we used the trace heuristic)"
   ]
  },
  {
   "cell_type": "code",
   "execution_count": null,
   "id": "94286c41-2c76-4114-8448-a93b1f5e526f",
   "metadata": {},
   "outputs": [],
   "source": [
    "from PEPit import PEP\n",
    "from PEPit.operators import MonotoneOperator\n",
    "from PEPit.primitive_steps import proximal_step\n",
    "\n",
    "alpha = 1\n",
    "n = 50\n",
    "\n",
    "verbose = 1\n",
    "\n",
    "# Instantiate PEP\n",
    "problem = PEP()\n",
    "\n",
    "# Declare a monotone operator\n",
    "A = problem.declare_function(MonotoneOperator)\n",
    "\n",
    "# Start by defining its unique optimal point xs = x_*\n",
    "xs = A.stationary_point()\n",
    "\n",
    "# Then define the starting point x0 of the algorithm and its gradient value g0\n",
    "x0 = problem.set_initial_point()\n",
    "\n",
    "# Set the initial constraint that is the distance between x0 and x^*\n",
    "problem.set_initial_condition((x0 - xs) ** 2 <= 1)\n",
    "\n",
    "# Compute n steps of the Proximal Gradient method starting from x0\n",
    "x = list()\n",
    "x.append(x0)\n",
    "current_x = x0\n",
    "for _ in range(n):\n",
    "    previous_x = current_x\n",
    "    current_x, _, _ = proximal_step(previous_x, A, alpha)\n",
    "    x.append(current_x)\n",
    "\n",
    "# Set the performance metric to the distance between x(n) and x(n-1)\n",
    "problem.set_performance_metric((current_x - previous_x) ** 2)\n",
    "\n",
    "# Solve the PEP\n",
    "pepit_tau = problem.solve(verbose=verbose, dimension_reduction_heuristic=\"trace\")"
   ]
  },
  {
   "cell_type": "code",
   "execution_count": null,
   "id": "225dc03c-516a-4962-be8c-6cb5c757938c",
   "metadata": {},
   "outputs": [],
   "source": [
    "# check which index corresponds to nonneglible eigenvalues (this will be fixed to the first indices in a next version)\n",
    "index1 = 0\n",
    "index2 = 2\n",
    "coord1 = list()\n",
    "coord2 = list()\n",
    "for i in range(n+1):\n",
    "    coord1.append((x[i]-xs).eval()[index1])\n",
    "    coord2.append((x[i]-xs).eval()[index2])"
   ]
  },
  {
   "cell_type": "code",
   "execution_count": null,
   "id": "9852eb68-0e43-4f4a-9538-a7005881494f",
   "metadata": {},
   "outputs": [],
   "source": [
    "import numpy as np\n",
    "import matplotlib.pyplot as plt\n",
    "\n",
    "plt.plot(coord1, coord2, '.-')\n",
    "plt.plot(coord1[0], coord2[0], '.')\n",
    "plt.plot(0, 0, '*')\n",
    "\n",
    "plt.xlabel('coord 1')\n",
    "plt.ylabel('coord 2')\n",
    "plt.show()"
   ]
  },
  {
   "cell_type": "code",
   "execution_count": null,
   "id": "60b5bab4-e093-4ba8-bafe-ba617cd6acd4",
   "metadata": {},
   "outputs": [],
   "source": []
  }
 ],
 "metadata": {
  "kernelspec": {
   "display_name": "Python 3 (ipykernel)",
   "language": "python",
   "name": "python3"
  },
  "language_info": {
   "codemirror_mode": {
    "name": "ipython",
    "version": 3
   },
   "file_extension": ".py",
   "mimetype": "text/x-python",
   "name": "python",
   "nbconvert_exporter": "python",
   "pygments_lexer": "ipython3",
   "version": "3.9.7"
  }
 },
 "nbformat": 4,
 "nbformat_minor": 5
}
