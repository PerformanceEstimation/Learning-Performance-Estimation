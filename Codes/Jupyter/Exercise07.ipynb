{
 "cells": [
  {
   "cell_type": "markdown",
   "id": "62d38f9e-5952-4c56-a6b7-aa14e471a4c7",
   "metadata": {},
   "source": [
    "# Summary\n",
    "This document corresponds to Exercise 7 of [this file](https://github.com/PerformanceEstimation/Learning-Performance-Estimation/blob/main/Course.pdf).\n",
    "\n",
    "If [PEPit](https://pypi.org/project/PEPit/) is not already installed, please execute the following cell."
   ]
  },
  {
   "cell_type": "code",
   "execution_count": null,
   "id": "b8faa862-7c0a-4a9d-b2e7-f77831770056",
   "metadata": {},
   "outputs": [],
   "source": [
    "!pip install pepit"
   ]
  },
  {
   "cell_type": "markdown",
   "id": "80fc9d3f-1094-4126-9395-1f97710606f2",
   "metadata": {},
   "source": [
    "### Exercise 7.1\n",
    "\n",
    "Requires no coding.\n",
    "\n",
    "\n",
    "### Exercise 7.2\n",
    "\n",
    "The code below computes the desired worst-case ratio for the Halpern iteration."
   ]
  },
  {
   "cell_type": "code",
   "execution_count": null,
   "id": "a54b4f59-8901-4e65-94c5-7cc170145b2f",
   "metadata": {},
   "outputs": [],
   "source": [
    "from PEPit import PEP\n",
    "from PEPit.operators import LipschitzOperator\n",
    "\n",
    "n = 5\n",
    "verbose = 1\n",
    "\n",
    "# Instantiate PEP\n",
    "problem = PEP()\n",
    "\n",
    "# Declare a non expansive operator\n",
    "A = problem.declare_function(LipschitzOperator, L=1.)\n",
    "\n",
    "# Start by defining its unique optimal point xs = x_*\n",
    "xs, _, _ = A.fixed_point()\n",
    "\n",
    "# Then define the starting point x0 of the algorithm\n",
    "x0 = problem.set_initial_point()\n",
    "\n",
    "# Set the initial constraint that is the difference between x0 and xs\n",
    "problem.set_initial_condition((x0 - xs) ** 2 <= 1)\n",
    "\n",
    "# Run n steps of Halpern Iterations\n",
    "x = x0\n",
    "x_list = list()\n",
    "x_list.append(x)\n",
    "image_list = list()\n",
    "for i in range(n):\n",
    "    image = A.gradient(x)\n",
    "    image_list.append(image)\n",
    "    x = 1 / (i + 2) * x0 + (1 - 1 / (i + 2)) * image\n",
    "    x_list.append(x)\n",
    "\n",
    "image = A.gradient(x)\n",
    "image_list.append(image)\n",
    "\n",
    "# Set the performance metric to distance between xN and AxN\n",
    "problem.set_performance_metric((x - image) ** 2)\n",
    "\n",
    "# Solve the PEP\n",
    "pepit_tau = problem.solve(verbose=verbose)\n"
   ]
  },
  {
   "cell_type": "markdown",
   "id": "3e261567-351a-4336-8d24-e92d744d51ff",
   "metadata": {},
   "source": [
    "### Exercise 7.3\n",
    "\n",
    "The following cell uses a rank minimization heuristic (namelly 15 iterations of the logdet heuristic) for trying to find a low-dimensional example."
   ]
  },
  {
   "cell_type": "code",
   "execution_count": null,
   "id": "702dad87-9546-4164-9828-cf1dbf37e10e",
   "metadata": {},
   "outputs": [],
   "source": [
    "from PEPit import PEP\n",
    "from PEPit.operators import LipschitzOperator\n",
    "\n",
    "n = 5\n",
    "verbose = 1\n",
    "\n",
    "# Instantiate PEP\n",
    "problem = PEP()\n",
    "\n",
    "# Declare a non expansive operator\n",
    "A = problem.declare_function(LipschitzOperator, L=1.)\n",
    "\n",
    "# Start by defining its unique optimal point xs = x_*\n",
    "xs, _, _ = A.fixed_point()\n",
    "\n",
    "# Then define the starting point x0 of the algorithm\n",
    "x0 = problem.set_initial_point()\n",
    "\n",
    "# Set the initial constraint that is the difference between x0 and xs\n",
    "problem.set_initial_condition((x0 - xs) ** 2 <= 1)\n",
    "\n",
    "# Run n steps of Halpern Iterations\n",
    "x = x0\n",
    "x_list = list()\n",
    "x_list.append(x)\n",
    "image_list = list()\n",
    "for i in range(n):\n",
    "    image = A.gradient(x)\n",
    "    image_list.append(image)\n",
    "    x = 1 / (i + 2) * x0 + (1 - 1 / (i + 2)) * image\n",
    "    x_list.append(x)\n",
    "\n",
    "image = A.gradient(x)\n",
    "image_list.append(image)\n",
    "\n",
    "# Set the performance metric to distance between xN and AxN\n",
    "problem.set_performance_metric((x - image) ** 2)\n",
    "\n",
    "# Solve the PEP\n",
    "pepit_tau = problem.solve(verbose=verbose, dimension_reduction_heuristic=\"logdet15\")\n"
   ]
  },
  {
   "cell_type": "code",
   "execution_count": null,
   "id": "82af2177-ce13-412c-9e3c-7aee9401d649",
   "metadata": {},
   "outputs": [],
   "source": [
    "iterates = list()\n",
    "residuals = list()\n",
    "images = list()\n",
    "for i in range(n+1):\n",
    "    iterates.append((x_list[i]-xs).eval()[0])\n",
    "    residuals.append((image_list[i]-x_list[i]).eval()[0])\n",
    "    images.append((image_list[i]).eval()[0])"
   ]
  },
  {
   "cell_type": "code",
   "execution_count": null,
   "id": "d76d2e02-bcb3-4cda-b95b-a5ee0ad0edcd",
   "metadata": {},
   "outputs": [],
   "source": [
    "import matplotlib.pyplot as plt\n",
    "\n",
    "plt.plot(iterates, images, '.-',label='iterates')\n",
    "plt.plot(iterates[0], images[0], '.',label='first')\n",
    "plt.plot(iterates[n], images[n], 's',label='last')\n",
    "plt.plot(iterates, iterates, '.-',label='x=y')\n",
    "plt.plot(0, 0, '*',label='solution')\n",
    "\n",
    "plt.xlabel('iterate')\n",
    "plt.ylabel('residual')\n",
    "plt.legend()\n",
    "plt.show()"
   ]
  },
  {
   "cell_type": "markdown",
   "id": "e9070fb7-a767-4910-818a-73c8c230d8a2",
   "metadata": {},
   "source": [
    "### Exercise 7.4\n",
    "\n",
    "Compute worst-case bound for the Krasnolselskii-Mann iteration."
   ]
  },
  {
   "cell_type": "code",
   "execution_count": null,
   "id": "29e2b61e-b418-48f4-9cc8-9e4ddf5fb8ca",
   "metadata": {},
   "outputs": [],
   "source": [
    "from PEPit import PEP\n",
    "from PEPit.operators import LipschitzOperator\n",
    "\n",
    "n = 5\n",
    "verbose = 1\n",
    "\n",
    "# Instantiate PEP\n",
    "problem = PEP()\n",
    "\n",
    "# Declare a non expansive operator\n",
    "A = problem.declare_function(LipschitzOperator, L=1.)\n",
    "\n",
    "# Start by defining its unique optimal point xs = x_*\n",
    "xs, _, _ = A.fixed_point()\n",
    "\n",
    "# Then define the starting point x0 of the algorithm\n",
    "x0 = problem.set_initial_point()\n",
    "\n",
    "# Set the initial constraint that is the difference between x0 and xs\n",
    "problem.set_initial_condition((x0 - xs) ** 2 <= 1)\n",
    "\n",
    "# Run n steps of Krasnolselskii-Mann iterations\n",
    "x = x0\n",
    "x_list = list()\n",
    "x_list.append(x)\n",
    "image_list = list()\n",
    "for i in range(n):\n",
    "    image = A.gradient(x)\n",
    "    image_list.append(image)\n",
    "    x = 1 / (i + 2) * x + (1 - 1 / (i + 2)) * image\n",
    "    x_list.append(x)\n",
    "\n",
    "image = A.gradient(x)\n",
    "image_list.append(image)\n",
    "\n",
    "# Set the performance metric to distance between xN and AxN\n",
    "problem.set_performance_metric((x - image) ** 2)\n",
    "\n",
    "# Solve the PEP\n",
    "pepit_tau = problem.solve(verbose=verbose)\n"
   ]
  },
  {
   "cell_type": "code",
   "execution_count": null,
   "id": "c3022058-01d2-4b12-904f-ed64faebd789",
   "metadata": {},
   "outputs": [],
   "source": []
  }
 ],
 "metadata": {
  "kernelspec": {
   "display_name": "Python 3 (ipykernel)",
   "language": "python",
   "name": "python3"
  },
  "language_info": {
   "codemirror_mode": {
    "name": "ipython",
    "version": 3
   },
   "file_extension": ".py",
   "mimetype": "text/x-python",
   "name": "python",
   "nbconvert_exporter": "python",
   "pygments_lexer": "ipython3",
   "version": "3.9.7"
  }
 },
 "nbformat": 4,
 "nbformat_minor": 5
}
