{
 "cells": [
  {
   "cell_type": "markdown",
   "id": "5e7850fb-ea03-4dfc-9f65-caaa0f973870",
   "metadata": {},
   "source": [
    "# Summary\n",
    "This document corresponds to Exercise 8 of [this file](https://github.com/PerformanceEstimation/Learning-Performance-Estimation/blob/main/Course.pdf).\n",
    "\n",
    "If [PEPit](https://pypi.org/project/PEPit/) is not already installed, please execute the following cell."
   ]
  },
  {
   "cell_type": "code",
   "execution_count": null,
   "id": "3a0ef6ec-d379-4f1d-9f4f-63c7bfd03a16",
   "metadata": {},
   "outputs": [],
   "source": [
    "!pip install pepit"
   ]
  },
  {
   "cell_type": "markdown",
   "id": "4dbd9907-7b96-444a-af2b-d669ebf83f62",
   "metadata": {},
   "source": [
    "### Exercise 8.1\n",
    "\n",
    "Compute a worst-case performance for the subgradient method with stepsizes $\\{\\gamma_k\\}_{0\\leqslant k\\leqslant N}$.\n",
    "\n",
    "It computes the worst-case $\\min_{0\\leqslant i\\leqslant N}\\{f(x_i)-f_\\star\\}$ when $f$ is convex and $M$-Lipschitz and $\\|x_0-x_\\star\\|^2\\leqslant R^2$ for some $x_\\star\\in\\mathrm{argmin}_x \\,f(x)$ (and $f_\\star=f(x_\\star)$)."
   ]
  },
  {
   "cell_type": "code",
   "execution_count": null,
   "id": "9cee719d-3977-4f7a-9507-344666a6d198",
   "metadata": {},
   "outputs": [],
   "source": [
    "from math import sqrt\n",
    "from PEPit import PEP\n",
    "from PEPit.functions import ConvexLipschitzFunction\n",
    "\n",
    "def wc_subgradient_method(M, R, n, gamma, verbose=1):\n",
    "\n",
    "    # Instantiate PEP\n",
    "    problem = PEP()\n",
    "\n",
    "    # Declare a convex lipschitz function\n",
    "    func = problem.declare_function(ConvexLipschitzFunction, M=M)\n",
    "\n",
    "    # Start by defining its unique optimal point xs = x_* and corresponding function value fs = f_*\n",
    "    xs = func.stationary_point()\n",
    "    fs = func(xs)\n",
    "\n",
    "    # Then define the starting point x0 of the algorithm\n",
    "    x0 = problem.set_initial_point()\n",
    "\n",
    "    # Set the initial constraint that is the distance between x0 and xs\n",
    "    problem.set_initial_condition((x0 - xs)**2 <= R**2)\n",
    "\n",
    "    # Run n steps of the subgradient method\n",
    "    x = x0\n",
    "    gx, fx = func.oracle(x)\n",
    "\n",
    "    for i in range(n):\n",
    "        problem.set_performance_metric(fx - fs)\n",
    "        x = x - gamma[i] * gx\n",
    "        gx, fx = func.oracle(x)\n",
    "\n",
    "    # Set the performance metric to the function value accuracy\n",
    "    problem.set_performance_metric(fx - fs)\n",
    "\n",
    "    # Solve the PEP\n",
    "    pepit_tau = problem.solve(verbose=verbose)\n",
    "    \n",
    "    return pepit_tau"
   ]
  },
  {
   "cell_type": "markdown",
   "id": "46dcad2f-ad12-4209-8c57-f83b4d95c6da",
   "metadata": {},
   "source": [
    "### Exercise 8.2\n",
    "\n",
    "Evaluate the output for a few stepsize rules and compare it to the standard guarantee:"
   ]
  },
  {
   "cell_type": "code",
   "execution_count": null,
   "id": "c6f09f72-93e3-46ca-90f9-d52ec3c97376",
   "metadata": {},
   "outputs": [],
   "source": [
    "import numpy as np\n",
    "\n",
    "M = 1\n",
    "R = 1\n",
    "n = 5\n",
    "\n",
    "gamma = [ 1/np.sqrt(i+1) for i in range(n)] \n",
    "\n",
    "wc_subgradient_method(M, R, n, gamma, verbose=1)"
   ]
  },
  {
   "cell_type": "markdown",
   "id": "7768b695-11c4-4b55-bdb7-d4bd04556a9d",
   "metadata": {},
   "source": [
    "### Exercise 8.3\n",
    "\n",
    "Adapt the code above for computing guarantees for the last iterate."
   ]
  },
  {
   "cell_type": "code",
   "execution_count": null,
   "id": "eab44db8-0db2-426d-8325-b8c8afd442bc",
   "metadata": {},
   "outputs": [],
   "source": [
    "from math import sqrt\n",
    "from PEPit import PEP\n",
    "from PEPit.functions import ConvexLipschitzFunction\n",
    "\n",
    "def wc_subgradient_method_last(M, R, n, gamma, verbose=1):\n",
    "\n",
    "    # Instantiate PEP\n",
    "    problem = PEP()\n",
    "\n",
    "    # Declare a convex lipschitz function\n",
    "    func = problem.declare_function(ConvexLipschitzFunction, M=M)\n",
    "\n",
    "    # Start by defining its unique optimal point xs = x_* and corresponding function value fs = f_*\n",
    "    xs = func.stationary_point()\n",
    "    fs = func(xs)\n",
    "\n",
    "    # Then define the starting point x0 of the algorithm\n",
    "    x0 = problem.set_initial_point()\n",
    "\n",
    "    # Set the initial constraint that is the distance between x0 and xs\n",
    "    problem.set_initial_condition((x0 - xs)**2 <= R**2)\n",
    "\n",
    "    # Run n steps of the subgradient method\n",
    "    x = x0\n",
    "    gx, fx = func.oracle(x)\n",
    "\n",
    "    for i in range(n):\n",
    "        x = x - gamma[i] * gx\n",
    "        gx, fx = func.oracle(x)\n",
    "\n",
    "    # Set the performance metric to the function value accuracy\n",
    "    problem.set_performance_metric(fx - fs)\n",
    "\n",
    "    # Solve the PEP\n",
    "    pepit_tau = problem.solve(verbose=verbose)\n",
    "    \n",
    "    return pepit_tau"
   ]
  },
  {
   "cell_type": "markdown",
   "id": "da6b05e3-7208-44d6-b1b4-4de5c2d509bd",
   "metadata": {},
   "source": [
    "Test for a few values:"
   ]
  },
  {
   "cell_type": "code",
   "execution_count": null,
   "id": "995633c2-ce12-415a-8e4b-ff6d0644012f",
   "metadata": {},
   "outputs": [],
   "source": [
    "\n",
    "M = 1\n",
    "R = 1\n",
    "n = 7\n",
    "\n",
    "gamma = [ 1/np.sqrt(n+1) for i in range(n)] \n",
    "\n",
    "wc_best = wc_subgradient_method(M, R, n, gamma, verbose=1)\n",
    "wc_last = wc_subgradient_method_last(M, R, n, gamma, verbose=1)"
   ]
  },
  {
   "cell_type": "markdown",
   "id": "63377c13-293e-4e7b-a12d-82d4c5512c04",
   "metadata": {},
   "source": [
    "### Exercise 8.4\n",
    "\n",
    "Same questions for the quasi-monotone subgradient method."
   ]
  },
  {
   "cell_type": "code",
   "execution_count": null,
   "id": "a5b7859c-137b-4a89-8c5b-9bc5158bb351",
   "metadata": {},
   "outputs": [],
   "source": [
    "def wc_QMsubgradient_method_last(M, R, n, gamma, verbose=1):\n",
    "\n",
    "    # Instantiate PEP\n",
    "    problem = PEP()\n",
    "\n",
    "    # Declare a convex lipschitz function\n",
    "    func = problem.declare_function(ConvexLipschitzFunction, M=M)\n",
    "\n",
    "    # Start by defining its unique optimal point xs = x_* and corresponding function value fs = f_*\n",
    "    xs = func.stationary_point()\n",
    "    fs = func(xs)\n",
    "\n",
    "    # Then define the starting point x0 of the algorithm\n",
    "    x0 = problem.set_initial_point()\n",
    "\n",
    "    # Set the initial constraint that is the distance between x0 and xs\n",
    "    problem.set_initial_condition((x0 - xs)**2 <= R**2)\n",
    "\n",
    "    # Run n steps of the subgradient method\n",
    "    x = x0\n",
    "    gx, fx = func.oracle(x)\n",
    "    gx_list = list()\n",
    "    gx_list.append(gx)\n",
    "    for i in range(n):\n",
    "        y = (i+1)/(i+2) * x + 1/(i+2) * x0\n",
    "        d = 1/(i+2) * np.sum(gx_list)\n",
    "        x = y - R/M/np.sqrt(n+1) * d\n",
    "        gx, fx = func.oracle(x)\n",
    "        gx_list.append(gx)\n",
    "\n",
    "    # Set the performance metric to the function value accuracy\n",
    "    problem.set_performance_metric(fx - fs)\n",
    "\n",
    "    # Solve the PEP\n",
    "    pepit_tau = problem.solve(verbose=verbose)\n",
    "    \n",
    "    return pepit_tau\n",
    "def wc_QMsubgradient_method_best(M, R, n, gamma, verbose=1):\n",
    "\n",
    "    # Instantiate PEP\n",
    "    problem = PEP()\n",
    "\n",
    "    # Declare a convex lipschitz function\n",
    "    func = problem.declare_function(ConvexLipschitzFunction, M=M)\n",
    "\n",
    "    # Start by defining its unique optimal point xs = x_* and corresponding function value fs = f_*\n",
    "    xs = func.stationary_point()\n",
    "    fs = func(xs)\n",
    "\n",
    "    # Then define the starting point x0 of the algorithm\n",
    "    x0 = problem.set_initial_point()\n",
    "\n",
    "    # Set the initial constraint that is the distance between x0 and xs\n",
    "    problem.set_initial_condition((x0 - xs)**2 <= R**2)\n",
    "\n",
    "    # Run n steps of the subgradient method\n",
    "    x = x0\n",
    "    gx, fx = func.oracle(x)\n",
    "    gx_list = list()\n",
    "    gx_list.append(gx)\n",
    "    for i in range(n):\n",
    "        problem.set_performance_metric(fx - fs)\n",
    "        y = (i+1)/(i+2) * x + 1/(i+2) * x0\n",
    "        d = 1/(i+2) * np.sum(gx_list)\n",
    "        x = y - R/M/np.sqrt(n+1) * d\n",
    "        gx, fx = func.oracle(x)\n",
    "        gx_list.append(gx)\n",
    "\n",
    "    # Set the performance metric to the function value accuracy\n",
    "    problem.set_performance_metric(fx - fs)\n",
    "\n",
    "    # Solve the PEP\n",
    "    pepit_tau = problem.solve(verbose=verbose)\n",
    "    \n",
    "    return pepit_tau"
   ]
  },
  {
   "cell_type": "markdown",
   "id": "5736df0e-6ed7-4c5b-9bc9-d70f535fbbf9",
   "metadata": {},
   "source": [
    "Test a few values:"
   ]
  },
  {
   "cell_type": "code",
   "execution_count": null,
   "id": "20d469be-1f81-44d8-9ae6-68d3a50badf0",
   "metadata": {},
   "outputs": [],
   "source": [
    "wc_QMsubgradient_method_last(M, R, n, gamma, verbose=1)\n",
    "wc_QMsubgradient_method_best(M, R, n, gamma, verbose=1)"
   ]
  }
 ],
 "metadata": {
  "kernelspec": {
   "display_name": "Python 3 (ipykernel)",
   "language": "python",
   "name": "python3"
  },
  "language_info": {
   "codemirror_mode": {
    "name": "ipython",
    "version": 3
   },
   "file_extension": ".py",
   "mimetype": "text/x-python",
   "name": "python",
   "nbconvert_exporter": "python",
   "pygments_lexer": "ipython3",
   "version": "3.9.7"
  }
 },
 "nbformat": 4,
 "nbformat_minor": 5
}
