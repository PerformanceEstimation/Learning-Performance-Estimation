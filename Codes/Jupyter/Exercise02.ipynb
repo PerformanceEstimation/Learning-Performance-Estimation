{
 "cells": [
  {
   "cell_type": "markdown",
   "id": "4599cf20-337a-455c-b306-54f482068d6a",
   "metadata": {},
   "source": [
    "# Summary\n",
    "This document corresponds to Exercise 2 of [this file](https://github.com/PerformanceEstimation/Learning-Performance-Estimation/blob/main/Course.pdf).\n",
    "\n",
    "The goal of this exercise is to compute a closed-form for the worst-case ratio $\\frac{\\|x_{k+1}-x_\\star\\|^2}{\\|x_k-x_\\star\\|^2}$ when $x_\\star=\\textrm{argmin}_x f(x)$ for some $f$ that is $L$-smooth and $\\mu$-strongly convex, and where $x_{k+1}=x_k-\\gamma_k \\nabla f(x_k)$ is obtained from a gradient step (with stepsize $\\gamma_k$) from $x_k$.\n",
    "\n",
    "\n",
    "We first install a few packages easing convex optimization and symbolic computations in Python."
   ]
  },
  {
   "cell_type": "code",
   "execution_count": null,
   "id": "54438bf5-ae83-449a-acdf-dbcea276f9c9",
   "metadata": {},
   "outputs": [],
   "source": [
    "!pip install sympy\n",
    "!pip install cvxpy"
   ]
  },
  {
   "cell_type": "markdown",
   "id": "e5121a7e-c27e-45a2-87b0-52e2dd1893c5",
   "metadata": {},
   "source": [
    "### Exercises 2.1 & 2.2\n",
    "\n",
    "In exercises 2.1 and 2.2, there is no numerical experiments."
   ]
  },
  {
   "cell_type": "markdown",
   "id": "14f69dcb-525c-40fd-bab8-ec2bda82b340",
   "metadata": {},
   "source": [
    "### Exercise 2.3: trick for obtaining the LMI using symbolic computation\n",
    "\n",
    "For doing this, let us first define a few symbols using SymPyimport sympy as sm.\n"
   ]
  },
  {
   "cell_type": "code",
   "execution_count": null,
   "id": "58e54232-2275-4a88-af07-b8d55afe0e33",
   "metadata": {},
   "outputs": [],
   "source": [
    "import sympy as sm\n",
    "\n",
    "# create symbols for the problem parameters:\n",
    "L = sm.Symbol('L')\n",
    "mu = sm.Symbol('mu')\n",
    "gamma = sm.Symbol('gamma')\n",
    "\n",
    "# create symbols for the \"primal\" variables:\n",
    "x0 = sm.Symbol('x0')\n",
    "g0 = sm.Symbol('g0')\n",
    "f0 = sm.Symbol('f0')\n",
    "xs = 0 # wlog, x_* = 0\n",
    "gs = 0 # constraint g_* = 0\n",
    "fs = 0 # wlog, f_* = 0\n",
    "x1 = x0 - gamma * g0 # define x1 using previous symbols:\n",
    "\n",
    "# create symbols for the \"dual\" variables\n",
    "rho = sm.Symbol('rho')\n",
    "l1 = sm.Symbol('l1')\n",
    "l2 = sm.Symbol('l2')"
   ]
  },
  {
   "cell_type": "markdown",
   "id": "382f0fe6-72c0-4296-ac9f-4553337bdc43",
   "metadata": {},
   "source": [
    "Write all inequalities (in the form \"$...\\leqslant 0$\") and the Lagrangian of the problem:"
   ]
  },
  {
   "cell_type": "code",
   "execution_count": null,
   "id": "528dd6c2-d781-4d8e-ae8c-beaff52ed45a",
   "metadata": {},
   "outputs": [],
   "source": [
    "# the two interpolation constraints in the form \"constraint <= 0\"\n",
    "constraint1 = f0 - fs + g0*(xs-x0) + 1/2/L * g0**2 + mu/(2*(1-mu/L)) * (x0-xs-1/L*g0)**2\n",
    "constraint2 = fs - f0 + 1/2/L * g0**2 + mu/(2*(1-mu/L)) * (x0-xs-1/L*g0)**2\n",
    "# the objective and the \"initial condition\" constraint: (also in the form \"constraint <= 0\")\n",
    "primal_objective = (x1-xs)**2\n",
    "initial_condition = (x0-xs)**2-1\n",
    "\n",
    "# Lagrangian:\n",
    "Lagrangian = - l1*constraint1 - l2*constraint2 - rho * initial_condition + primal_objective"
   ]
  },
  {
   "cell_type": "markdown",
   "id": "7ac1369e-dfcc-4046-87ca-be10978122bf",
   "metadata": {},
   "source": [
    "Now, perform the simple trick: obtain the LMI and the linear constraint (i.e., the dual constraints) from differentiating the Lagrangian"
   ]
  },
  {
   "cell_type": "code",
   "execution_count": null,
   "id": "5ce150ea-ab1b-4dd3-b61a-1f4a99f3302e",
   "metadata": {},
   "outputs": [],
   "source": [
    "# This is the LMI:\n",
    "LMI = sm.simplify(sm.hessian( -Lagrangian , (x0,g0))/2) \n",
    "# This is the linear constraint ==0 in the LMI\n",
    "LinearConst = sm.simplify(sm.diff(-Lagrangian,f0))"
   ]
  },
  {
   "cell_type": "markdown",
   "id": "6d0394c1-d914-4fc3-b2f3-16d7a827b8e4",
   "metadata": {},
   "source": [
    "Substitute $\\lambda_2$ for getting to the same dual formulation:"
   ]
  },
  {
   "cell_type": "code",
   "execution_count": null,
   "id": "ff3b81cb-d215-4d5f-a039-4b30f3e20886",
   "metadata": {},
   "outputs": [],
   "source": [
    "# For getting the same LMI as in the document, substitute l2 by l1 and simplify\n",
    "LMI_simplified = sm.simplify(LMI.subs(l2,l1))"
   ]
  },
  {
   "cell_type": "code",
   "execution_count": null,
   "id": "15a43c97-0424-4059-a681-45fd7f56eb4a",
   "metadata": {},
   "outputs": [],
   "source": [
    "LMI_simplified # show the LMI (>=0)"
   ]
  },
  {
   "cell_type": "code",
   "execution_count": null,
   "id": "495a4458-28b1-4a74-a54a-658f5a841764",
   "metadata": {},
   "outputs": [],
   "source": [
    "LinearConst # show linear constraint (==0)"
   ]
  },
  {
   "cell_type": "markdown",
   "id": "8eb10804-8523-4930-8f0c-eaf65e9c9178",
   "metadata": {},
   "source": [
    "### Exercise 2.4: numerical solutions to the LMI\n",
    "\n",
    "For getting a few hints on how to solve this LMI in closed-form, a good practice is to first try it numerically for a few values of $\\mu$, $L$, and $\\gamma_k$.\n",
    "\n",
    "The following code implements the LMI.\n"
   ]
  },
  {
   "cell_type": "code",
   "execution_count": null,
   "id": "8a3d9535-e0a8-40d4-b276-64bd262d7662",
   "metadata": {},
   "outputs": [],
   "source": [
    "import cvxpy as cp\n",
    "def lmi_convergence_distance(L, mu, gamma):\n",
    "\n",
    "    # Write the LMI.\n",
    "    S = cp.Variable((2, 2)) # this is the matrix S\n",
    "    l1 = cp.Variable()      # this is the multiplier (lambda1 == lambda2) which we denote l1\n",
    "    tau = cp.Variable()     # this is the objective\n",
    "    \n",
    "    s11 = tau-1+l1*L*mu/(L-mu)\n",
    "    s12 = gamma-l1*(L+mu)/2/(L-mu)\n",
    "    s22 = l1/(L-mu)-gamma**2\n",
    "    \n",
    "    constraints = [S >> 0,\n",
    "                   S[0,0] == s11,\n",
    "                   S[1,1] == s22,\n",
    "                   S[0,1] == s12,\n",
    "                   S[1,0] == s12,\n",
    "                   l1 >= 0]\n",
    "    \n",
    "    prob = cp.Problem(cp.Minimize(tau), constraints)\n",
    "    prob.solve()\n",
    "    return tau.value, l1.value, S.value"
   ]
  },
  {
   "cell_type": "markdown",
   "id": "dd10fef1-a2c7-4c82-9d32-3a72ff77b5c2",
   "metadata": {},
   "source": [
    "The following code solves the LMI for a grid of $\\gamma_k$'s."
   ]
  },
  {
   "cell_type": "code",
   "execution_count": null,
   "id": "a6a6d4ea-7dde-44f2-a5da-1c2b484772cf",
   "metadata": {},
   "outputs": [],
   "source": [
    "import numpy as np\n",
    "import matplotlib.pyplot as plt\n",
    "\n",
    "nb_test = 50\n",
    "mu = .1\n",
    "L = 1\n",
    "gamma = np.linspace(-1., 3., num=nb_test)\n",
    "\n",
    "l1_list = list()\n",
    "tau_list = list()\n",
    "S_list = list()\n",
    "\n",
    "for i in range(nb_test):\n",
    "    tau,l1,S = lmi_convergence_distance(L, mu, gamma[i])\n",
    "    l1_list.append(l1[()])\n",
    "    tau_list.append(tau[()])\n",
    "    S_list.append(S)"
   ]
  },
  {
   "cell_type": "markdown",
   "id": "7aa2cd5c-7f5a-44e2-b6d9-823a301b89af",
   "metadata": {},
   "source": [
    "Plot the output!"
   ]
  },
  {
   "cell_type": "code",
   "execution_count": null,
   "id": "a2d50935-e28b-4657-b79d-0350e3af9692",
   "metadata": {},
   "outputs": [],
   "source": [
    "plt.plot(gamma, tau_list, '.-',label='$\\tau_1$')\n",
    "plt.plot(gamma, l1_list, '.-',label='$\\lambda_1$')\n",
    "\n",
    "plt.xlabel('$\\gamma$')\n",
    "plt.ylabel('Multipliers')\n",
    "plt.legend()\n",
    "plt.show()"
   ]
  },
  {
   "cell_type": "markdown",
   "id": "52973e72-8727-4ac5-b63c-b037d8ce57e4",
   "metadata": {},
   "source": [
    "Recover useful information about $S$: its eigenvalues."
   ]
  },
  {
   "cell_type": "code",
   "execution_count": null,
   "id": "ced278ca-52ef-42e7-86ea-d0a2622f4582",
   "metadata": {},
   "outputs": [],
   "source": [
    "firsteig_list = list()\n",
    "seceig_list = list()\n",
    "\n",
    "for i in range(nb_test):\n",
    "    eigsV, _ = np.linalg.eigh(S_list[i])\n",
    "    firsteig_list.append(np.max(eigsV))\n",
    "    seceig_list.append(np.min(eigsV))\n",
    "\n",
    "plt.plot(gamma, firsteig_list, '.-',label='first eigenvalue')\n",
    "plt.plot(gamma, seceig_list, '.-',label='second eigenvalue')\n",
    "\n",
    "plt.xlabel('$\\gamma$')\n",
    "plt.ylabel('$\\Lambda(S)$')\n",
    "plt.legend()\n",
    "plt.show()"
   ]
  },
  {
   "cell_type": "markdown",
   "id": "2d4ac8e1-a1b9-4b27-bb6a-6dee602418c1",
   "metadata": {},
   "source": [
    "In case you have a candidate expression for $\\tau(\\mu,L,\\gamma_k)$, compare it with the numerics?\n",
    "(you can come back to this cell a bit later with a few expressions to test)"
   ]
  },
  {
   "cell_type": "code",
   "execution_count": null,
   "id": "0d118c5d-3c5b-449f-bcc4-9208f45365bb",
   "metadata": {},
   "outputs": [],
   "source": [
    "tau_candidates = [ 1 for i in range(nb_test)] # replace \"1\" by an appropriate candidate.\n",
    "plt.plot(gamma, tau_list, '.-',label='LMI')\n",
    "plt.plot(gamma, tau_candidates, '--',label='TRIAL')\n",
    "\n",
    "plt.xlabel('$\\gamma$')\n",
    "plt.ylabel('Multipliers')\n",
    "plt.legend()\n",
    "\n",
    "plt.show()"
   ]
  },
  {
   "cell_type": "markdown",
   "id": "34dd04dc-880b-4884-9b75-006a2e1edec4",
   "metadata": {},
   "source": [
    "### Exercise 2.5: getting closed-form solutions to the LMI\n",
    "\n",
    "As we saw numerically, the matrix $S$ has rank $1$ for most values of the step-sizes!\n",
    "As the problem of finding a bound on the convergence rate $\\frac{\\|x_{k+1}-x_\\star\\|^2}{\\|x_k-x_\\star\\|^2}$ corresponds to a linear problem with an LMI constraint, it is natural that the optimal solution is on the boundary of the feasible set, and we can use that for solving the problem in closed-form.\n",
    "\n",
    "We use a bit of symbolic computation below for simplicity.\n",
    "\n",
    "The following cell encodes a symbolic matrix $S$:"
   ]
  },
  {
   "cell_type": "code",
   "execution_count": null,
   "id": "d78cb26b-ca29-4fa9-ba7b-dc561cfadacf",
   "metadata": {},
   "outputs": [],
   "source": [
    "import sympy as sm\n",
    "\n",
    "tau = sm.Symbol('tau')\n",
    "l1 = sm.Symbol('l1')\n",
    "gamma = sm.Symbol('gamma')\n",
    "L = sm.Symbol('L')\n",
    "mu = sm.Symbol('mu')\n",
    "\n",
    "S = sm.Matrix([[tau-1+l1*L*mu/(L-mu), gamma-l1*(L+mu)/2/(L-mu)], [gamma-l1*(L+mu)/2/(L-mu), l1/(L-mu)-gamma**2]])"
   ]
  },
  {
   "cell_type": "markdown",
   "id": "317a7876-12ee-4cb7-8170-6d49280db52b",
   "metadata": {},
   "source": [
    "For making $S$ rank defficient, let's choose $\\tau$ for cancelling out the determinant:"
   ]
  },
  {
   "cell_type": "code",
   "execution_count": null,
   "id": "d9ddb665-a94f-47e1-9a4e-b84fe1bce179",
   "metadata": {},
   "outputs": [],
   "source": [
    "candidate_tau=sm.solve(S.det(),tau)\n",
    "candidate_tau[0]"
   ]
  },
  {
   "cell_type": "markdown",
   "id": "918b79f3-3369-4986-9715-08805bc2d8ec",
   "metadata": {},
   "source": [
    "There are two possibilities for choosing $\\lambda_1$:\n",
    "- on the boundary of the PSD cone ($S=0$),\n",
    "- minimize $\\tau$ (and verify that the corresponding $(\\lambda_1,\\tau,S)$ is feasible for the LMI afterwards).\n",
    "\n",
    "Because we observed numerically that $S$ was rank $1$ for most choices of stepsizes, let's focus on the second possibility."
   ]
  },
  {
   "cell_type": "code",
   "execution_count": null,
   "id": "9b97743b-753d-46d8-a4ee-b6deeaf33710",
   "metadata": {},
   "outputs": [],
   "source": [
    "dtau=sm.simplify(sm.diff(candidate_tau[0],l1)) #differentiate tau with respect to lambda_1\n",
    "dtau"
   ]
  },
  {
   "cell_type": "code",
   "execution_count": null,
   "id": "382c808b-6ee6-48f2-b661-23ab08aa2df0",
   "metadata": {},
   "outputs": [],
   "source": [
    "l1sol=sm.solve(dtau,l1) # solve dtau/dlambda_1 == 0 in lambda1\n",
    "l1sol # show the two possibilities!"
   ]
  },
  {
   "cell_type": "markdown",
   "id": "73c6ccf5-ce6d-4d33-997e-5932c7321829",
   "metadata": {},
   "source": [
    "The corresponding \"final\" expressions for $\\tau$ that must be checked are therefore:"
   ]
  },
  {
   "cell_type": "code",
   "execution_count": null,
   "id": "29d4f572-a891-4aca-8bc1-fc492c36d4d0",
   "metadata": {},
   "outputs": [],
   "source": [
    "exprtau1=sm.simplify(candidate_tau[0].subs(l1,l1sol[0]))\n",
    "exprtau1.factor()"
   ]
  },
  {
   "cell_type": "code",
   "execution_count": null,
   "id": "05dd00b2-60da-4b20-bdf3-772ea246258d",
   "metadata": {},
   "outputs": [],
   "source": [
    "exprtau2=sm.simplify(candidate_tau[0].subs(l1,l1sol[1]))\n",
    "exprtau2.factor()"
   ]
  },
  {
   "cell_type": "markdown",
   "id": "8bffba1a-8cfd-4c2e-bdff-841c1f1dd168",
   "metadata": {},
   "source": [
    "### Exercise 2.6: writing a proof without semidefinite programming / LMI\n",
    "\n",
    "This exercise requires no coding."
   ]
  },
  {
   "cell_type": "markdown",
   "id": "2e836d61-dfe8-4e50-92ee-058c520b0b5c",
   "metadata": {},
   "source": [
    "### Exercise 2.7: changing the ratio to $\\frac{\\|\\nabla f(x_{k+1})\\|^2}{\\|\\nabla f(x_k)\\|^2}$\n",
    "\n",
    "Using similar steps as before, solve the LMI for finding the worst-case value of the ratio $\\frac{\\|\\nabla f(x_{k+1})\\|^2}{\\|\\nabla f(x_k)\\|^2}$: (1) numerically, and (2) in closed-form."
   ]
  },
  {
   "cell_type": "code",
   "execution_count": null,
   "id": "37ebb26c-ec6a-4459-93d7-881447340caf",
   "metadata": {},
   "outputs": [],
   "source": []
  },
  {
   "cell_type": "markdown",
   "id": "d6f0676b-d345-4f7c-b82e-8da8768e14af",
   "metadata": {},
   "source": [
    "### Exercise 2.8: changing the ratio to $\\frac{f(x_{k+1})-f_\\star}{f(x_k)-f_\\star}$\n",
    "\n",
    "Using similar steps as before, solve the LMI for finding the worst-case value of the ratio $\\frac{f(x_{k+1})-f_\\star}{f(x_k)-f_\\star}$: (1) numerically, and (2) in closed-form.\n",
    "\n",
    "For convenience, a code is provided below."
   ]
  },
  {
   "cell_type": "code",
   "execution_count": null,
   "id": "59f869eb-5ffa-4239-9379-08d62a448419",
   "metadata": {},
   "outputs": [],
   "source": [
    "# Import packages.\n",
    "import cvxpy as cp\n",
    "\n",
    "def lmi_functionvalues(L, mu, gamma):\n",
    "\n",
    "    # Write the LMI.\n",
    "    S = cp.Variable((3, 3))\n",
    "    lamb = cp.Variable(6)\n",
    "    tau = cp.Variable()\n",
    "\n",
    "    s11 = mu*L/(L-mu) * (lamb[0]+lamb[1]+lamb[2]+lamb[3])\n",
    "    s12 = -L/(L-mu) * (lamb[1]+gamma*mu*(lamb[2]+lamb[3])) - mu/(L-mu)*lamb[0]\n",
    "    s13 = -1/(L-mu) * (L*lamb[3]+mu*lamb[2])\n",
    "    s22 = 1/(L-mu) * (gamma*mu*(gamma*L*(lamb[2]+lamb[3]+lamb[4]+lamb[5])-2*lamb[4])-2*gamma*L*lamb[5]+lamb[0]+lamb[1]+lamb[4]+lamb[5])\n",
    "    s23 = 1/(L-mu) * (gamma*L*lamb[3]+lamb[4]*(gamma*L-1)+gamma*mu*(lamb[2]+lamb[5])-lamb[5])\n",
    "    s33 = 1/(L-mu) * (lamb[2]+lamb[3]+lamb[4]+lamb[5])\n",
    "    constraints = [0==tau-lamb[0]+lamb[1]-lamb[4]+lamb[5],\n",
    "                   1==-lamb[2]+lamb[3]+lamb[4]-lamb[5],\n",
    "                   S >> 0,\n",
    "                   S[0,0] == s11,\n",
    "                   S[1,1] == s22,\n",
    "                   S[2,2] == s33,\n",
    "                   S[0,1] == s12,\n",
    "                   S[1,0] == s12,\n",
    "                   S[0,2] == s13,\n",
    "                   S[2,0] == s13,\n",
    "                   S[1,2] == s23,\n",
    "                   S[2,1] == s23,\n",
    "                   lamb >= 0]\n",
    "    # trick to try later: impose the additional\n",
    "    # lamb[0]==0,\n",
    "    # lamb[2]==0\n",
    "    # lamb[5]==0\n",
    "    \n",
    "    prob = cp.Problem(cp.Minimize(tau), constraints)\n",
    "    prob.solve()\n",
    "    return tau.value, lamb.value, S.value"
   ]
  },
  {
   "cell_type": "markdown",
   "id": "72b016c8-0f13-47a9-893f-2d9e2d7e69e1",
   "metadata": {},
   "source": [
    "The following code plots the numerical values of the multipliers:"
   ]
  },
  {
   "cell_type": "code",
   "execution_count": null,
   "id": "4d03b27a-1f12-4fc8-9ce2-6e8513ade63f",
   "metadata": {},
   "outputs": [],
   "source": [
    "import matplotlib.pyplot as plt\n",
    "import numpy as np\n",
    "\n",
    "nb_test = 50\n",
    "\n",
    "mu = .1\n",
    "L = 1\n",
    "gamma = np.linspace(0, 2., num=nb_test)\n",
    "verbose = 0\n",
    "taus = np.empty([nb_test])\n",
    "lambdas = np.empty([6, nb_test])\n",
    "S_list = list()\n",
    "\n",
    "for i in range(nb_test):\n",
    "    tau, lamb,S = lmi_functionvalues(L=L, mu=mu, gamma=gamma[i])\n",
    "    taus[i]=tau[()]\n",
    "    lambdas[:,i]=lamb\n",
    "    S_list.append(S)\n",
    "\n",
    "\n",
    "plt.plot(gamma, lambdas[0,:], '-',label='$\\lambda_1$')\n",
    "plt.plot(gamma, lambdas[1,:], '-',label='$\\lambda_2$')\n",
    "plt.plot(gamma, lambdas[2,:], '-',label='$\\lambda_3$')\n",
    "plt.plot(gamma, lambdas[3,:], '-',label='$\\lambda_4$')\n",
    "plt.plot(gamma, lambdas[4,:], '-',label='$\\lambda_5$')\n",
    "plt.plot(gamma, lambdas[5,:], '-',label='$\\lambda_6$')\n",
    "plt.legend()\n",
    "plt.xlabel('$\\gamma$')\n",
    "plt.ylabel('Multipliers')\n",
    "\n",
    "plt.show()"
   ]
  },
  {
   "cell_type": "code",
   "execution_count": null,
   "id": "b2a86252-ad61-4fa3-a802-637629b9a765",
   "metadata": {},
   "outputs": [],
   "source": [
    "eigsV = np.empty([3, nb_test])\n",
    "\n",
    "for i in range(nb_test):\n",
    "    eigsV[:,i], _ = np.linalg.eigh(S_list[i])\n",
    "\n",
    "plt.plot(gamma, eigsV[0,:], '.-')\n",
    "plt.plot(gamma, eigsV[1,:], '.-')\n",
    "plt.plot(gamma, eigsV[2,:], '.-')\n",
    "\n",
    "plt.xlabel('$\\gamma$')\n",
    "plt.ylabel('$\\Lambda(S)$')\n",
    "plt.show()"
   ]
  },
  {
   "cell_type": "markdown",
   "id": "7c9d367b-4c33-4767-b87b-b44803ebb69a",
   "metadata": {},
   "source": [
    "### Exercise 2.9: obtain the LMI formulations from exercises 2.7 and 2.8 using symbolic computation.\n",
    "\n",
    "By adapting the idea from exercise 2.3, obtain the two LMI formulations for the different ratios."
   ]
  },
  {
   "cell_type": "code",
   "execution_count": null,
   "id": "a1f2fe7c-071d-42a4-80ff-41038ee778b8",
   "metadata": {},
   "outputs": [],
   "source": []
  }
 ],
 "metadata": {
  "kernelspec": {
   "display_name": "Python 3 (ipykernel)",
   "language": "python",
   "name": "python3"
  },
  "language_info": {
   "codemirror_mode": {
    "name": "ipython",
    "version": 3
   },
   "file_extension": ".py",
   "mimetype": "text/x-python",
   "name": "python",
   "nbconvert_exporter": "python",
   "pygments_lexer": "ipython3",
   "version": "3.9.7"
  }
 },
 "nbformat": 4,
 "nbformat_minor": 5
}
